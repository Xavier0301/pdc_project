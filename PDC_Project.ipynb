{
 "cells": [
  {
   "cell_type": "markdown",
   "metadata": {},
   "source": [
    "# PDC Project"
   ]
  },
  {
   "cell_type": "code",
   "execution_count": 1,
   "metadata": {},
   "outputs": [],
   "source": [
    "import numpy as np\n",
    "from functools import reduce\n",
    "import re"
   ]
  },
  {
   "cell_type": "markdown",
   "metadata": {},
   "source": [
    "## 2)"
   ]
  },
  {
   "cell_type": "code",
   "execution_count": 3,
   "metadata": {},
   "outputs": [],
   "source": [
    "def encode(string_of_bits):\n",
    "    # String of bits to numpy array\n",
    "    bit_array = np.array(list(map(int, string_of_bits)))\n",
    "    # 2 bits per row\n",
    "    bit_array_2d = bit_array.reshape(-1, 2)\n",
    "    # Compute parity for each row\n",
    "    parity_array = np.logical_xor(bit_array_2d[:,0], bit_array_2d[:,1]).astype(int)\n",
    "    # Add parity column\n",
    "    bit_array_with_parity_2d = np.block([bit_array_2d, parity_array.reshape(-1,1)])\n",
    "    # Map [0,1] to [-1,1]\n",
    "    return bit_array_with_parity_2d.flatten() * 2 - 1"
   ]
  },
  {
   "cell_type": "code",
   "execution_count": 4,
   "metadata": {},
   "outputs": [],
   "source": [
    "def decode(encoded):\n",
    "    encoded_2d = encoded.reshape(-1, 3)\n",
    "    # Map [-1,1] to [0,1]\n",
    "    bit_encoded_2d = (encoded_2d + 1) // 2\n",
    "\n",
    "    # Loop over the erased bits\n",
    "    for i, j in zip(*np.where(encoded_2d == 0)):\n",
    "        # We can recover the bit by xoring the two other bits\n",
    "        # xor <=> addition mod 2\n",
    "        bit_encoded_2d[i][j] = np.sum(np.delete(bit_encoded_2d[i], j)) % 2\n",
    "\n",
    "    # Remove parity and flatten\n",
    "    decoded = bit_encoded_2d[:, :2].flatten()\n",
    "\n",
    "    # Convert to string of bits\n",
    "    return ''.join(decoded.astype(str))"
   ]
  },
  {
   "cell_type": "code",
   "execution_count": 5,
   "metadata": {},
   "outputs": [],
   "source": [
    "def channel(chanInput):\n",
    "    c = np.clip(chanInput,-1,1)\n",
    "    erasedIndex = np.random.randint(3)\n",
    "    c[erasedIndex:len(chanInput):3] = 0\n",
    "    return c"
   ]
  },
  {
   "cell_type": "code",
   "execution_count": 6,
   "metadata": {},
   "outputs": [],
   "source": [
    "def process(string):\n",
    "    sender = str_to_bits(string)\n",
    "    print(f\"first we decompose our message in bits: {sender}\")\n",
    "    X = encode(sender)\n",
    "    print(f\"Encode it with the check bit and-1,1 : {X}\")\n",
    "    Y = channel(X)\n",
    "    print(Y.shape)\n",
    "    print(f\"The channel erase some symbols : {Y}\")\n",
    "    estimator = decode(Y)\n",
    "    print(f\"Decode : {estimator}\")\n",
    "    original_message = bits_to_str(estimator)\n",
    "    print(f\"Convert bits to string : {message}\")"
   ]
  },
  {
   "cell_type": "code",
   "execution_count": 7,
   "metadata": {},
   "outputs": [
    {
     "name": "stdout",
     "output_type": "stream",
     "text": [
      "first we decompose our message in bits: 01001101011010010110000101110111\n",
      "Then we format it with the check bit and cast in -1,1 : [-1  1  1 -1 -1 -1  1  1 -1 -1  1  1 -1  1  1  1 -1  1  1 -1  1 -1  1  1\n",
      " -1  1  1  1 -1  1 -1 -1 -1 -1  1  1 -1  1  1  1  1 -1 -1  1  1  1  1 -1]\n",
      "(48,)\n",
      "Then the channel erase some symbols : [ 0  1  1  0 -1 -1  0  1 -1  0  1  1  0  1  1  0 -1  1  0 -1  1  0  1  1\n",
      "  0  1  1  0 -1  1  0 -1 -1  0  1  1  0  1  1  0  1 -1  0  1  1  0  1 -1]\n",
      "We retrieve our initial bit string with the help of the check bits : 01001101011010010110000101110111\n",
      "We inverse the bits into a string : Miaw\n"
     ]
    }
   ],
   "source": [
    "process_modeling(\"Miaw\")"
   ]
  },
  {
   "cell_type": "code",
   "execution_count": null,
   "metadata": {},
   "outputs": [],
   "source": []
  }
 ],
 "metadata": {
  "kernelspec": {
   "display_name": "Python 3",
   "language": "python",
   "name": "python3"
  },
  "language_info": {
   "codemirror_mode": {
    "name": "ipython",
    "version": 3
   },
   "file_extension": ".py",
   "mimetype": "text/x-python",
   "name": "python",
   "nbconvert_exporter": "python",
   "pygments_lexer": "ipython3",
   "version": "3.8.3"
  }
 },
 "nbformat": 4,
 "nbformat_minor": 4
}

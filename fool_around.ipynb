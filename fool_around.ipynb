{
 "metadata": {
  "language_info": {
   "codemirror_mode": {
    "name": "ipython",
    "version": 3
   },
   "file_extension": ".py",
   "mimetype": "text/x-python",
   "name": "python",
   "nbconvert_exporter": "python",
   "pygments_lexer": "ipython3",
   "version": "3.7.3"
  },
  "orig_nbformat": 2,
  "kernelspec": {
   "name": "python373jvsc74a57bd0575ef1d0e6bebc78cce9f41e5461ee9c36f6b463def79c68585633dbbf58454e",
   "display_name": "Python 3.7.3 64-bit ('base': conda)"
  }
 },
 "nbformat": 4,
 "nbformat_minor": 2,
 "cells": [
  {
   "source": [
    "# Testing the `channel` function given in the pdf"
   ],
   "cell_type": "markdown",
   "metadata": {}
  },
  {
   "cell_type": "code",
   "execution_count": 2,
   "metadata": {},
   "outputs": [],
   "source": [
    "import numpy as np"
   ]
  },
  {
   "cell_type": "code",
   "execution_count": 11,
   "metadata": {},
   "outputs": [],
   "source": [
    "def channel(chanInput):\n",
    "    chanInput = np.clip(chanInput,-1,1)\n",
    "    erasedIndex = np.random.randint(3) \n",
    "    chanInput[erasedIndex:len(chanInput):3] = 0\n",
    "    return chanInput + np.sqrt(10)*np.random.randn(len(chanInput))"
   ]
  },
  {
   "cell_type": "code",
   "execution_count": 40,
   "metadata": {},
   "outputs": [
    {
     "output_type": "stream",
     "name": "stdout",
     "text": [
      "[ 7.09291894 -2.59928026 -1.48739072  2.76715194 -0.53892032 -2.80916199]\n"
     ]
    }
   ],
   "source": [
    "channelInput = np.array([1,-1,1,1,1,-1])\n",
    "channelOutput = channel(channelInput)\n",
    "\n",
    "print(channelOutput)"
   ]
  },
  {
   "source": [
    "# Command to get the real channel output"
   ],
   "cell_type": "markdown",
   "metadata": {}
  },
  {
   "source": [
    "python3 client.py --input_file=in.txt --output_file=out.txt --srv_hostname iscsrv72.epfl.ch --srv_port 80"
   ],
   "cell_type": "code",
   "metadata": {},
   "execution_count": null,
   "outputs": []
  },
  {
   "cell_type": "code",
   "execution_count": 13,
   "metadata": {},
   "outputs": [],
   "source": [
    "np.savetxt(\"in.txt\", channelInput)"
   ]
  },
  {
   "cell_type": "code",
   "execution_count": 15,
   "metadata": {},
   "outputs": [
    {
     "output_type": "stream",
     "name": "stdout",
     "text": [
      "[ 8.86527571  2.56791895 -5.904792   -2.13201648  8.97192555 -0.96314209]\n"
     ]
    }
   ],
   "source": [
    "channelOutput = np.loadtxt(\"out.txt\")\n",
    "print(channelOutput)"
   ]
  },
  {
   "source": [
    "# Functions to get a string to channel input format ([-1,1,1,-1,...]) and back"
   ],
   "cell_type": "markdown",
   "metadata": {}
  },
  {
   "cell_type": "code",
   "execution_count": 89,
   "metadata": {},
   "outputs": [],
   "source": [
    "def strToBits(string):\n",
    "    res = []\n",
    "    byte_string = string.encode('utf-8')\n",
    "    for b in byte_string:\n",
    "        bit_array = bin(b)[2:]\n",
    "        bit_array = '00000000'[len(bit_array):] + bit_array\n",
    "        res.extend(bit_array)\n",
    "    return res\n",
    "\n",
    "def stringToChannelInput(string):\n",
    "    bits = np.array(strToBits(string), dtype='int64')\n",
    "    return 2*bits - 1"
   ]
  },
  {
   "cell_type": "code",
   "execution_count": 90,
   "metadata": {},
   "outputs": [
    {
     "output_type": "stream",
     "name": "stdout",
     "text": [
      "[-1  1  1 -1 -1 -1 -1  1 -1  1  1 -1 -1 -1  1 -1 -1  1  1 -1 -1 -1  1  1\n -1  1  1 -1 -1  1 -1 -1]\n32\n"
     ]
    }
   ],
   "source": [
    "channelOutput = stringToChannelInput(\"abcd\")\n",
    "print(channelOutput)\n",
    "print(len(channelOutput))"
   ]
  },
  {
   "cell_type": "code",
   "execution_count": 93,
   "metadata": {},
   "outputs": [],
   "source": [
    "def channelOutputToString(channelOutput):\n",
    "    bits = ((channelOutput+1)/2).astype('int64').tolist()\n",
    "    byte_string = \"\"\n",
    "    for char_index in range(len(bits)//8):\n",
    "        bit_list = bits[char_index*8:(char_index+1)*8]\n",
    "        byte = chr(int(''.join([str(bit) for bit in bit_list]), 2))\n",
    "        byte_string += byte\n",
    "    return byte_string\n",
    "\n",
    "    "
   ]
  },
  {
   "cell_type": "code",
   "execution_count": 94,
   "metadata": {},
   "outputs": [
    {
     "output_type": "execute_result",
     "data": {
      "text/plain": [
       "'abcd'"
      ]
     },
     "metadata": {},
     "execution_count": 94
    }
   ],
   "source": [
    "channelOutputToString(channelOutput)"
   ]
  },
  {
   "cell_type": "code",
   "execution_count": null,
   "metadata": {},
   "outputs": [],
   "source": []
  }
 ]
}
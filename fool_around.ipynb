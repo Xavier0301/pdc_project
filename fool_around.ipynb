{
 "metadata": {
  "language_info": {
   "codemirror_mode": {
    "name": "ipython",
    "version": 3
   },
   "file_extension": ".py",
   "mimetype": "text/x-python",
   "name": "python",
   "nbconvert_exporter": "python",
   "pygments_lexer": "ipython3",
   "version": "3.7.3"
  },
  "orig_nbformat": 2,
  "kernelspec": {
   "name": "python373jvsc74a57bd0575ef1d0e6bebc78cce9f41e5461ee9c36f6b463def79c68585633dbbf58454e",
   "display_name": "Python 3.7.3 64-bit ('base': conda)"
  }
 },
 "nbformat": 4,
 "nbformat_minor": 2,
 "cells": [
  {
   "source": [
    "# Testing the `channel` function given in the pdf"
   ],
   "cell_type": "markdown",
   "metadata": {}
  },
  {
   "cell_type": "code",
   "execution_count": 84,
   "metadata": {},
   "outputs": [],
   "source": [
    "import numpy as np\n",
    "import math"
   ]
  },
  {
   "cell_type": "code",
   "execution_count": 87,
   "metadata": {},
   "outputs": [],
   "source": [
    "def channel(chanInput):\n",
    "    chanInput = np.clip(chanInput,-1,1)\n",
    "    erasedIndex = np.random.randint(3) \n",
    "    chanInput[erasedIndex:len(chanInput):3] = 0\n",
    "    return chanInput + np.sqrt(10)*np.random.randn(len(chanInput)), erasedIndex"
   ]
  },
  {
   "cell_type": "code",
   "execution_count": 40,
   "metadata": {},
   "outputs": [
    {
     "output_type": "stream",
     "name": "stdout",
     "text": [
      "[ 7.09291894 -2.59928026 -1.48739072  2.76715194 -0.53892032 -2.80916199]\n"
     ]
    }
   ],
   "source": [
    "channelInput = np.array([1,-1,1,1,1,-1])\n",
    "channelOutput = channel(channelInput)\n",
    "\n",
    "print(channelOutput)"
   ]
  },
  {
   "source": [
    "# Command to get the real channel output"
   ],
   "cell_type": "markdown",
   "metadata": {}
  },
  {
   "source": [
    "python3 client.py --input_file=in.txt --output_file=out.txt --srv_hostname iscsrv72.epfl.ch --srv_port 80"
   ],
   "cell_type": "code",
   "metadata": {},
   "execution_count": null,
   "outputs": []
  },
  {
   "cell_type": "code",
   "execution_count": 13,
   "metadata": {},
   "outputs": [],
   "source": [
    "np.savetxt(\"in.txt\", channelInput)"
   ]
  },
  {
   "cell_type": "code",
   "execution_count": 15,
   "metadata": {},
   "outputs": [
    {
     "output_type": "stream",
     "name": "stdout",
     "text": [
      "[ 8.86527571  2.56791895 -5.904792   -2.13201648  8.97192555 -0.96314209]\n"
     ]
    }
   ],
   "source": [
    "channelOutput = np.loadtxt(\"out.txt\")\n",
    "print(channelOutput)"
   ]
  },
  {
   "source": [
    "# Functions to get a string to channel input format ([-1,1,1,-1,...]) and back"
   ],
   "cell_type": "markdown",
   "metadata": {}
  },
  {
   "cell_type": "code",
   "execution_count": 22,
   "metadata": {},
   "outputs": [],
   "source": [
    "def strToBits(string):\n",
    "    res = []\n",
    "    byte_string = string.encode('utf-8')\n",
    "    for b in byte_string:\n",
    "        bit_array = bin(b)[2:]\n",
    "        bit_array = '00000000'[len(bit_array):] + bit_array\n",
    "        res.extend(bit_array)\n",
    "    return res\n",
    "\n",
    "def stringToChannelInput(string):\n",
    "    bits = np.array(strToBits(string), dtype='int64')\n",
    "    return 2*bits - 1"
   ]
  },
  {
   "cell_type": "code",
   "execution_count": 40,
   "metadata": {},
   "outputs": [
    {
     "output_type": "stream",
     "name": "stdout",
     "text": [
      "[ 1  1 -1 -1 -1 -1  1  1  1 -1 -1  1 -1  1 -1 -1  1  1 -1 -1 -1 -1  1 -1\n  1 -1  1 -1 -1  1  1 -1  1  1 -1 -1 -1 -1  1 -1  1 -1  1  1 -1  1  1  1\n -1  1  1 -1 -1 -1 -1 -1 -1  1  1 -1  1  1 -1 -1  1  1 -1 -1 -1 -1  1 -1\n  1 -1 -1 -1 -1  1 -1 -1  1  1 -1 -1 -1 -1  1  1  1 -1 -1 -1 -1 -1  1  1\n -1 -1  1  1  1 -1 -1  1  1  1 -1 -1 -1 -1  1  1  1 -1  1  1 -1  1  1 -1\n  1  1 -1 -1 -1 -1  1 -1  1 -1 -1  1  1  1 -1 -1  1  1 -1 -1 -1 -1  1 -1\n  1 -1  1 -1 -1  1  1 -1 -1 -1 -1  1 -1 -1  1 -1  1  1 -1 -1 -1 -1  1 -1\n  1 -1  1  1  1  1 -1  1 -1  1 -1 -1 -1 -1 -1 -1 -1  1  1 -1 -1 -1  1 -1\n -1  1  1 -1 -1 -1  1 -1  1  1 -1 -1 -1 -1  1 -1  1 -1  1  1  1  1 -1 -1\n -1 -1 -1 -1 -1 -1  1  1  1  1 -1 -1 -1 -1  1  1  1 -1  1 -1 -1  1  1  1\n -1 -1  1  1 -1  1  1  1  1  1 -1 -1 -1 -1  1  1  1 -1 -1  1  1 -1 -1 -1\n -1  1  1  1 -1 -1 -1  1 -1 -1  1 -1  1 -1  1 -1 -1  1  1  1  1 -1  1 -1\n  1  1 -1 -1 -1 -1  1  1  1 -1  1  1 -1  1  1  1 -1 -1  1  1  1 -1  1 -1\n  1  1 -1 -1 -1 -1  1  1  1 -1  1 -1  1 -1 -1  1  1  1 -1 -1 -1 -1  1 -1\n  1 -1 -1  1 -1  1 -1 -1 -1  1  1  1 -1  1 -1 -1 -1 -1  1 -1 -1  1  1  1\n -1  1  1 -1 -1  1  1 -1 -1  1  1  1  1 -1  1  1 -1 -1  1 -1  1  1 -1  1\n  1  1 -1 -1 -1 -1  1 -1  1 -1 -1 -1 -1  1  1  1 -1  1 -1  1  1 -1 -1 -1\n -1  1  1 -1 -1  1  1 -1 -1 -1 -1 -1  1 -1 -1  1  1  1 -1 -1 -1 -1  1 -1\n  1 -1 -1  1  1 -1  1 -1 -1  1 -1  1 -1  1 -1 -1 -1  1 -1 -1  1  1 -1  1\n -1  1  1  1  1 -1 -1  1 -1 -1 -1  1 -1 -1  1  1 -1  1  1 -1 -1 -1  1  1\n -1 -1 -1  1 -1  1  1  1  1  1 -1 -1 -1 -1  1  1  1 -1  1 -1 -1  1  1  1\n  1  1 -1 -1 -1 -1  1  1  1 -1  1 -1  1  1 -1  1 -1 -1 -1 -1 -1 -1  1 -1\n -1  1  1  1  1  1 -1 -1 -1 -1 -1 -1  1  1  1 -1 -1  1 -1 -1  1  1 -1  1\n  1  1 -1 -1 -1 -1  1  1  1 -1 -1 -1  1  1 -1 -1 -1 -1  1  1  1 -1 -1 -1\n -1 -1  1  1  1 -1 -1 -1 -1  1 -1  1  1  1  1  1 -1 -1  1  1  1 -1  1 -1\n -1  1  1 -1  1  1 -1 -1 -1 -1  1 -1  1 -1 -1 -1 -1 -1 -1 -1 -1 -1  1 -1\n -1  1 -1  1  1  1 -1 -1  1  1 -1 -1 -1 -1  1 -1  1 -1  1  1 -1 -1 -1 -1\n  1  1 -1 -1 -1 -1  1  1  1 -1  1  1  1 -1  1  1  1  1 -1 -1 -1 -1  1  1\n  1 -1 -1 -1  1  1 -1 -1  1  1 -1 -1 -1 -1  1  1  1 -1  1 -1  1 -1  1 -1\n  1  1 -1 -1 -1 -1  1  1  1 -1 -1  1  1 -1 -1  1  1  1 -1 -1 -1 -1  1 -1\n  1 -1 -1 -1  1 -1 -1 -1 -1  1 -1  1 -1 -1  1  1  1  1 -1 -1 -1 -1  1 -1\n  1 -1 -1 -1 -1 -1 -1 -1  1  1 -1 -1 -1 -1  1  1  1 -1  1  1 -1 -1  1 -1\n -1  1  1  1 -1  1 -1 -1 -1 -1  1  1  1 -1 -1 -1  1  1 -1 -1 -1 -1  1  1\n  1 -1  1 -1 -1 -1  1  1 -1  1  1 -1 -1 -1 -1 -1 -1  1  1  1  1  1 -1  1\n  1  1 -1 -1 -1 -1  1  1  1 -1 -1 -1 -1  1 -1 -1  1  1 -1 -1 -1 -1  1  1\n  1 -1 -1  1 -1 -1 -1 -1 -1  1 -1 -1  1 -1 -1  1 -1 -1 -1 -1  1 -1  1  1\n  1  1 -1 -1 -1 -1  1 -1  1 -1 -1  1 -1  1  1  1  1  1 -1 -1 -1 -1  1 -1\n  1 -1  1 -1  1  1  1  1]\n896\n"
     ]
    }
   ],
   "source": [
    "channelOutput = stringToChannelInput(\"Ô¦·`lÃ9ö¦\u0012½@bb¼\u0003ç7Øq*z÷:ét'f{-Xf\tTMy\u0013c\u0017çí\u0002|\u000eMÌ88_:l(\u0002\\°ûÌêÙSòt8ã`}ÄÐI\u000b¯\")\n",
    "print(channelOutput)\n",
    "print(len(channelOutput))"
   ]
  },
  {
   "cell_type": "code",
   "execution_count": 35,
   "metadata": {},
   "outputs": [],
   "source": [
    "def channelOutputToString(channelOutput):\n",
    "    bits = ((channelOutput+1)/2).astype('int64').tolist()\n",
    "    byte_string = \"\"\n",
    "    for char_index in range(len(bits)//8):\n",
    "        bit_list = bits[char_index*8:(char_index+1)*8]\n",
    "        byte = chr(int(''.join([str(bit) for bit in bit_list]), 2))\n",
    "        byte_string += byte\n",
    "    return byte_string\n",
    "\n",
    "    "
   ]
  },
  {
   "cell_type": "code",
   "execution_count": 41,
   "metadata": {},
   "outputs": [
    {
     "output_type": "stream",
     "name": "stdout",
     "text": [
      "ÃÂ¦Â·`lÂÃ9Ã¶ÂÂ¦\u0012Â½@bbÂ¼\u0003Ã§7Ãq*zÃ·:Ã©Ât'f{-ÂXf\tÂTMy\u0013c\u0017Ã§Ã­\u0002|\u000eMÃ88_:l(\u0002\\Â°Ã»ÃÃªÃÂSÂÃ²t8Ã£`}ÃÃI\u000bÂÂ¯\n"
     ]
    }
   ],
   "source": [
    "print(channelOutputToString(channelOutput))"
   ]
  },
  {
   "source": [
    "# Encoding"
   ],
   "cell_type": "markdown",
   "metadata": {}
  },
  {
   "source": [
    "In the homework, they talk about \"4 equally likely messages\". Hence I propose to encode every pair in the message into a triple. This effecitvely makes the messages 1.5 longer. \n",
    "\n",
    "* For messages that are of size $2k$:\n",
    "    We simply do the pair to triple transformation as stated above. We obtain a signal of size $3k$\n",
    "\n",
    "* For messages that are of size $2k-1$:\n",
    "    We do the same transform as above for the first $2(k-1)$. Then we double the last character. We therefore obtain a message of size $3(k-1)+2=3k-1$. On the decoder, we can infer $J$ and still recover the last character no matter what. We also know that the input message in of odd size as the decoder will receive a message of size not divisible by $3$."
   ],
   "cell_type": "markdown",
   "metadata": {}
  },
  {
   "cell_type": "code",
   "execution_count": 6,
   "metadata": {},
   "outputs": [],
   "source": [
    "codewords = [[1, 1, 1], [1, -1, -1], [-1, 1, -1], [-1, -1, 1]]\n",
    "tupleToCodewordDict = {(1, 1): codewords[0], (1, -1): codewords[1], (-1, 1): codewords[2], (-1, -1): codewords[3]}\n",
    "\n",
    "# The channel only accepts -1 and 1\n",
    "def transformTuple(subarray):\n",
    "    return tupleToCodewordDict[tuple(subarray)]\n",
    "\n",
    "def augmentSignal(array, K):\n",
    "    n = array.shape[0]\n",
    "    newArray = np.array([], dtype='int64')\n",
    "    for i in range(n//2):\n",
    "        newArray = np.append(newArray, transformTuple(array[2*i:2*i+2]) * K)\n",
    "\n",
    "    if n % 2 != 0:\n",
    "        newArray = np.append(newArray, [array[n-1], array[n-1]] * K)\n",
    "\n",
    "    return newArray\n",
    "\n",
    "# array is an np.array with values -1 and 1.\n",
    "# The output is an np.array with values -1 and 1 (channel only accepts those)\n",
    "def encode(array, K=10):\n",
    "    return augmentSignal(array, K)"
   ]
  },
  {
   "source": [
    "We will employ the straightforward decoding specified in the last subquestion of the homework. In particular, we first guess $J$ and then $H$.\n",
    "\n",
    "The homework only considered the case where we had one triple.\n",
    "If the encoded signal is of odd size, we ignore the last two characters. Hence we work with a number of samples divisible by $3$ always (say $3k$). We have:\n",
    "$$J_{MAP}((y_1, \\dotsc, y_k)) = \\operatorname{argmin}_{j=1}^{3} \\prod_{l=1}^{k} (y_l)_j^2 = \\operatorname{argmin}_{j=1}^{3} \\sum_{l=1}^{k} \\log (y_l)_j$$\n",
    "In particular, we have a way less error prone $J$ estimator than with a single triple."
   ],
   "cell_type": "markdown",
   "metadata": {}
  },
  {
   "cell_type": "code",
   "execution_count": 81,
   "metadata": {},
   "outputs": [],
   "source": [
    "def jmap(array):\n",
    "    p1 = p2 = p3 = 0\n",
    "    # by '//3' we ignore the last 2 samples if they're here.\n",
    "    for i in range(len(array)//3):\n",
    "        p1 += abs(array[3*i])**2\n",
    "        p2 += abs(array[3*i+1])**2\n",
    "        p3 += abs(array[3*i+2])**2\n",
    "    if p1 < p2 and p1 < p3:\n",
    "        return 0, [p1, p2, p3]\n",
    "    if p2 < p1 and p2 < p3:\n",
    "        return 1, [p1, p2, p3]\n",
    "    return 2, [p1, p2, p3]\n",
    "\n",
    "def cutJ(array, j, K):\n",
    "    n = array.shape[0]\n",
    "    remaining = (n%3)*K\n",
    "    cutoff = n - remaining\n",
    "\n",
    "    beforeCutoffIndex = [i%3!=j for i in range(cutoff)]\n",
    "    afterCutoffIndex = [(i+cutoff)%3!=j for i in range(remaining)]\n",
    "\n",
    "    left = array[:cutoff]\n",
    "    right = array[cutoff:]\n",
    "\n",
    "    return left[beforeCutoffIndex], right[afterCutoffIndex]\n",
    "\n",
    "def adjacentIndex(j):\n",
    "    return [[1,2], [0,2], [0,1]][j]\n",
    "\n",
    "def transformKPairs(subarray, j, K, debug):\n",
    "    l, r = adjacentIndex(j)\n",
    "    \n",
    "    if debug:\n",
    "        print(\"Subarray:\")\n",
    "        print(subarray)\n",
    "\n",
    "    minIndex = -1\n",
    "    minSum = sys.maxsize\n",
    "    for i in range(4):\n",
    "        s0 = 0\n",
    "        for j in range(K):\n",
    "            s0 += (subarray[2*j] - codewords[i][l])**2 + (subarray[2*j+1] - codewords[i][r])**2\n",
    "        if s0 < minSum:\n",
    "            minSum = s0\n",
    "            minIndex = i\n",
    "\n",
    "    if debug:\n",
    "        print(\"Min index:\")\n",
    "        print(minIndex)\n",
    "\n",
    "    if debug:\n",
    "        print(\"Result:\")\n",
    "        print(codewords[minIndex])\n",
    "\n",
    "    return codewords[minIndex][:2]\n",
    "\n",
    "def reduceSignal(leftReducedArray, rightReducedArray, j, K, verboseDebug):\n",
    "    n = leftReducedArray.shape[0]\n",
    "    newArray = np.array([], dtype='int64')\n",
    "\n",
    "    for i in range(n//(2*K)):\n",
    "        newArray = np.append(newArray, transformKPairs(leftReducedArray[2*K*i:2*K*(i+1)], j, K, verboseDebug))\n",
    "\n",
    "    if rightReducedArray.shape[0] != 0:\n",
    "        codewords_simple = [-1, 1]\n",
    "\n",
    "        minIndex = -1\n",
    "        minSum = sys.maxsize\n",
    "        for i in range(2):\n",
    "            s0 = 0\n",
    "            for e in rightReducedArray:\n",
    "                s0 += (e - codewords_simple[i])**2\n",
    "            if s0 < minSum:\n",
    "                minSum = s0\n",
    "                minIndex = i\n",
    "                \n",
    "        if verboseDebug:\n",
    "            print(\"Min index:\")\n",
    "            print(minIndex)\n",
    "            print(\"Codeword:\")\n",
    "            print(codewords_simple[minIndex])\n",
    "\n",
    "        newArray = np.append(newArray, codewords_simple[minIndex])\n",
    "\n",
    "    return newArray \n",
    "\n",
    "# array is an np.array with values -1 and 1.\n",
    "def decode(array, K=10, debug=False, verbose=False):\n",
    "    n = array.shape[0]\n",
    "    j, stats = jmap(array)\n",
    "    if debug:\n",
    "        print(f\"j: {j}\")\n",
    "    leftReducedArray, rightReducedArray = cutJ(array, j, K)\n",
    "    if debug:\n",
    "        print(f\"after cutJ: {leftReducedArray}\")\n",
    "        print(f\"after cutJ: {rightReducedArray}\")\n",
    "\n",
    "    reducedArray = reduceSignal(leftReducedArray, rightReducedArray, j, K, debug and verbose)\n",
    "\n",
    "    return reducedArray, j, stats"
   ]
  },
  {
   "cell_type": "code",
   "execution_count": 25,
   "metadata": {},
   "outputs": [
    {
     "output_type": "stream",
     "name": "stdout",
     "text": [
      "Original:\n[1 1]\nEncoded:\n[1 1 1 1 1 1 1 1 1 1 1 1 1 1 1]\nAfter channel:\n[ 0.99809013 -0.6487678   0.42176822  0.45735516  0.51881293  0.9020472\n  0.47732168 -1.07861842  1.19359552  2.21928996  0.89353935  0.62769464\n  0.86626238  0.47628124  2.21399959]\nj: 1\nafter cutJ: [0.99809013 0.42176822 0.45735516 0.9020472  0.47732168 1.19359552\n 2.21928996 0.62769464 0.86626238 2.21399959]\nafter cutJ: []\nAfter decoding:\n[1 1] 1 [7.108852075018044, 2.8787405879615084, 7.712042606085705]\n"
     ]
    }
   ],
   "source": [
    "# K has to be coprime with 3.\n",
    "K = 5\n",
    "\n",
    "x = np.array([1, 1])\n",
    "# x = np.array([-1, -1, 1, -1,  1, -1,  1,  1, -1,  1, -1, -1, -1,  1,  1,  1, -1])\n",
    "# x = np.array([1,1,1,-1,-1,1,-1,-1,1,1])\n",
    "print(\"Original:\")\n",
    "print(x)\n",
    "x = encode(x, K)\n",
    "print(\"Encoded:\")\n",
    "print(x)\n",
    "x, erasedIndex = channel(x)\n",
    "print(\"After channel:\")\n",
    "print(x)\n",
    "x, j, stats = decode(x, K, debug=True)\n",
    "print(\"After decoding:\")\n",
    "print(x, j, stats)"
   ]
  },
  {
   "source": [
    "## Testing the accuracy of the above encoding"
   ],
   "cell_type": "markdown",
   "metadata": {}
  },
  {
   "cell_type": "code",
   "execution_count": 28,
   "metadata": {},
   "outputs": [],
   "source": [
    "def tobits(s):\n",
    "    result = []\n",
    "    for c in s:\n",
    "        bits = bin(ord(c))[2:]\n",
    "        bits = '00000000'[len(bits):] + bits\n",
    "        result.extend([int(b) for b in bits])\n",
    "    return result\n",
    "\n",
    "def frombits(bits):\n",
    "    chars = []\n",
    "    for b in range(len(bits) // 8):\n",
    "        byte = bits[b*8:(b+1)*8]\n",
    "        chars.append(chr(int(''.join([str(bit) for bit in byte]), 2)))\n",
    "    return ''.join(chars)\n",
    "\n",
    "def stringToChannelInput(string):\n",
    "    bits = tobits(string)\n",
    "    bits = [bits[i] for i in range(len(bits)) if i%8!=0]\n",
    "    bits = np.array(bits, dtype='int64')    \n",
    "    \n",
    "    return 2*bits - 1\n",
    "\n",
    "def channelOutputToString(channelOutput):\n",
    "    bits = ((channelOutput+1)/2).astype('int64').tolist()\n",
    "\n",
    "    n = 7\n",
    "    i = 0\n",
    "    while i < len(bits):\n",
    "        bits.insert(i, 0)\n",
    "        i += (n+1)\n",
    "\n",
    "    return frombits(bits)"
   ]
  },
  {
   "cell_type": "code",
   "execution_count": 4,
   "metadata": {},
   "outputs": [],
   "source": [
    "def getRandom1ByteUtf8():\n",
    "    return [0] + [random.randint(0,1) for i in range(7)]\n",
    "\n",
    "def getRandomString(length=80):\n",
    "    packs = [random.randint(0,1) for i in range(length)]\n",
    "    bits = []\n",
    "    for i in range(length):\n",
    "        bits += getRandom1ByteUtf8()\n",
    "\n",
    "    return frombits(bits)\n",
    "\n",
    "def strDistance(a, b):\n",
    "    count = 0\n",
    "    for i in range(len(a)):\n",
    "        if a[i] != b[i]:\n",
    "            count += 1\n",
    "    return count\n"
   ]
  },
  {
   "cell_type": "code",
   "execution_count": 88,
   "metadata": {
    "tags": []
   },
   "outputs": [
    {
     "output_type": "stream",
     "name": "stdout",
     "text": [
      "n: 59640\n",
      "dist: 3\n",
      "n: 59640\n",
      "dist: 2\n",
      "n: 59640\n",
      "dist: 1\n",
      "n: 59640\n",
      "dist: 2\n",
      "n: 59640\n",
      "dist: 1\n",
      "n: 59640\n",
      "dist: 2\n",
      "n: 59640\n",
      "dist: 1\n",
      "n: 59640\n",
      "dist: 7\n",
      "n: 59640\n",
      "dist: 3\n",
      "n: 59640\n",
      "dist: 6\n",
      "Average distance: 2.8\n"
     ]
    }
   ],
   "source": [
    "import random\n",
    "\n",
    "avg_dist = 0\n",
    "trials = 10\n",
    "length = 80\n",
    "K = 71\n",
    "\n",
    "for i in range(trials):\n",
    "    inputString = getRandomString(length)\n",
    "    x = stringToChannelInput(inputString)\n",
    "\n",
    "    y = encode(x, K)\n",
    "    print(f\"n: {y.shape[0]}\")\n",
    "    y, j = channel(y)\n",
    "    y, jj, stats = decode(y, K, debug=False)\n",
    "\n",
    "    delta = y-x\n",
    "\n",
    "    # if np.any(delta):\n",
    "        # diff = np.linalg.norm(delta/2, ord=1)\n",
    "        # print(f\"ERROR: n: {n}, diff: {diff}, j: {j}, infered: {jj}, \\n (y-x)/2: {(delta/2)}, \\n x: {x}, \\n y: {y}\")\n",
    "        # avg_diff += diff \n",
    "    # else: \n",
    "        # print(f\"CORRECT: {np.linalg.norm(delta/2, ord=1)/n}\")\n",
    "\n",
    "    outputString = channelOutputToString(y)\n",
    "\n",
    "    # print(f\"encoded size: {y.shape[0]}, input: {inputString}, output: {outputString}\")\n",
    "\n",
    "    dist = strDistance(inputString, outputString)\n",
    "    print(f\"dist: {dist}\")\n",
    "    avg_dist += dist\n",
    "\n",
    "    if j != jj:\n",
    "        errs+=1\n",
    "        print(\"ERROR IN J ESTIMATION\")\n",
    "        # print(f\"j: {j}, infered: {jj}\")\n",
    "        # print(f\"stats: {stats}\")\n",
    "    # elif not np.array_equal(x, y):\n",
    "    #     errs+=1\n",
    "    #     print(f\"ERROR: x: {x}, y: {y}\")\n",
    "\n",
    "print(f\"Average distance: {avg_dist/trials}\")"
   ]
  },
  {
   "cell_type": "code",
   "execution_count": null,
   "metadata": {},
   "outputs": [],
   "source": []
  },
  {
   "cell_type": "code",
   "execution_count": null,
   "metadata": {},
   "outputs": [],
   "source": []
  },
  {
   "source": [
    "# H-inference, Jonas' style"
   ],
   "cell_type": "markdown",
   "metadata": {}
  },
  {
   "cell_type": "code",
   "execution_count": null,
   "metadata": {},
   "outputs": [],
   "source": [
    "decoding_h_choices = [[0,2,3,1], [0,1,3,2], [0,1,2,3]]\n",
    "def decoder_h(a, b, j):\n",
    "    if a > 0 and b > 0:\n",
    "        return decoding_h_choices[j][0]\n",
    "    elif a > 0 and b < 0:\n",
    "        return decoding_h_choices[j][1]\n",
    "    elif a < 0 and b > 0:\n",
    "        return decoding_h_choices[j][2]\n",
    "    elif a < 0 and b < 0:\n",
    "        return decoding_h_choices[j][3]\n",
    "\n",
    "def transformKPairs(subarray, j, K, debug):\n",
    "    l, r = adjacentIndex(j)\n",
    "    \n",
    "    if debug:\n",
    "        print(\"Subarray:\")\n",
    "        print(subarray)\n",
    "\n",
    "    a = b = 0\n",
    "    for k in range(K):\n",
    "        a += subarray[2*k]\n",
    "        b += subarray[2*k+1]\n",
    "\n",
    "    infered = codewords[decoder_h(a, b, j)][:2]"
   ]
  }
 ]
}
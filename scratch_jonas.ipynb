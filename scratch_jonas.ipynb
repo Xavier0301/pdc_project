{
 "metadata": {
  "language_info": {
   "codemirror_mode": {
    "name": "ipython",
    "version": 3
   },
   "file_extension": ".py",
   "mimetype": "text/x-python",
   "name": "python",
   "nbconvert_exporter": "python",
   "pygments_lexer": "ipython3",
   "version": "3.8.3"
  },
  "orig_nbformat": 2,
  "kernelspec": {
   "name": "python383jvsc74a57bd097ae724bfa85b9b34df7982b8bb8c7216f435b92902d749e4263f71162bea840",
   "display_name": "Python 3.8.3 64-bit"
  },
  "metadata": {
   "interpreter": {
    "hash": "3413f9f06e370d25235c5c8fcfd99c09335104504a07d86118bcad3e1224d0a7"
   }
  }
 },
 "nbformat": 4,
 "nbformat_minor": 2,
 "cells": [
  {
   "source": [
    "# Helper functions"
   ],
   "cell_type": "markdown",
   "metadata": {}
  },
  {
   "cell_type": "code",
   "execution_count": 52,
   "metadata": {},
   "outputs": [],
   "source": [
    "import numpy as np\n",
    "import string\n",
    "import random\n",
    "import io"
   ]
  },
  {
   "cell_type": "code",
   "execution_count": 42,
   "metadata": {},
   "outputs": [],
   "source": [
    "# From Xavier\n",
    "def strToBits(string):\n",
    "    res = []\n",
    "    byte_string = string.encode('utf-8')\n",
    "    for b in byte_string:\n",
    "        bit_array = bin(b)[2:]\n",
    "        bit_array = '00000000'[len(bit_array):] + bit_array\n",
    "        # remove first bit since it is always 0\n",
    "        res.extend(bit_array[1:])\n",
    "    return res\n",
    "\n",
    "def stringToChannelInput(string):\n",
    "    bits = np.array(strToBits(string), dtype='int64')\n",
    "    return 2*bits - 1\n",
    "\n",
    "def channelOutputToString(channel_output):\n",
    "    bits = ((channel_output+1)/2).astype('int64').tolist()\n",
    "    byte_string = \"\"\n",
    "    for char_index in range(len(bits)//7):\n",
    "        bit_list = bits[char_index*7:(char_index+1)*7]\n",
    "        byte = chr(int(''.join([str(bit) for bit in bit_list]), 2))\n",
    "        byte_string += byte\n",
    "    return byte_string"
   ]
  },
  {
   "cell_type": "code",
   "execution_count": 57,
   "metadata": {},
   "outputs": [],
   "source": [
    "# From handout\n",
    "def channel(chan_input):\n",
    "    chan_input = np.clip(chan_input,-1,1)\n",
    "    erasedIndex = np.random.randint(3)\n",
    "    # print(\"erase index is: \" + str(erasedIndex))\n",
    "    chan_input[erasedIndex:len(chan_input):3] = 0\n",
    "    return chan_input + np.sqrt(10)*np.random.randn(len(chan_input))"
   ]
  },
  {
   "cell_type": "code",
   "execution_count": 58,
   "metadata": {},
   "outputs": [],
   "source": [
    "def channelWoNoise(chan_input, erasedIndex):\n",
    "    \"\"\"\n",
    "    Emulates communication channel without noise.\n",
    "    erasedIndex is used to specify H\n",
    "    \"\"\"\n",
    "    chan_input = np.clip(chan_input,-1,1)\n",
    "    chan_input[erasedIndex:len(chan_input):3] = 0\n",
    "    return chan_input"
   ]
  },
  {
   "cell_type": "code",
   "execution_count": 59,
   "metadata": {},
   "outputs": [],
   "source": [
    "def generateTestString(characters=80):\n",
    "    \"\"\"\n",
    "    Function to generate a random utf-8 encoded string.\n",
    "    \"\"\"\n",
    "    return ''.join(random.choices(string.ascii_letters + string.digits + string.punctuation, k=characters))"
   ]
  },
  {
   "cell_type": "code",
   "execution_count": 60,
   "metadata": {},
   "outputs": [],
   "source": [
    "def generateTestFile(characters=80, filename=\"scratch\"):\n",
    "    \"\"\"\n",
    "    Function to generate a file containing a random utf-8 encoded string.\n",
    "    Returns the generated text.\n",
    "    \"\"\"\n",
    "    text = generateTestString(characters)\n",
    "    with io.open(filename+\".txt\", \"w\", encoding='utf8') as f:\n",
    "        f.write(text)\n",
    "    return text"
   ]
  },
  {
   "cell_type": "code",
   "execution_count": 61,
   "metadata": {},
   "outputs": [],
   "source": [
    "def readTestFile(filename=\"scratch\"):\n",
    "    \"\"\"\n",
    "    Function to read a text file as channel input.\n",
    "    Returns the file text in the channel input format.\n",
    "    \"\"\"\n",
    "    text = ''\n",
    "    with io.open(filename+\".txt\", encoding='utf8') as f:\n",
    "        text = f.read()\n",
    "    return stringToChannelInput(text)"
   ]
  },
  {
   "cell_type": "code",
   "execution_count": 62,
   "metadata": {},
   "outputs": [],
   "source": [
    "def encodeChannelInput(chan_input, repetitions):\n",
    "    \"\"\"\n",
    "    Makes channel input ready for transmission.\n",
    "    Each input bit pair is mapped to a length 3 signal which is then repeated\n",
    "    \"\"\"\n",
    "    # map each input pair to the signal whose two first elements are said pair\n",
    "    def encodeBitPairs(bits):\n",
    "        if (np.array_equal(bits, [1, 1])):\n",
    "            return signal_set[0]\n",
    "        elif (np.array_equal(bits, [1, -1])):\n",
    "            return signal_set[1]\n",
    "        elif (np.array_equal(bits, [-1, 1])):\n",
    "            return signal_set[2]\n",
    "        elif (np.array_equal(bits, [-1, -1])):\n",
    "            return signal_set[3]\n",
    "\n",
    "    chan_input = np.split(chan_input, len(chan_input)/2)\n",
    "    chan_input = np.array([encodeBitPairs(bit) for bit in chan_input])\n",
    "\n",
    "    # repeat each signal for redundancy\n",
    "    def repeat(bits):\n",
    "        res = np.empty([repetitions, bits.shape[0]])\n",
    "        res[:] = bits\n",
    "        return res\n",
    "\n",
    "    chan_input = np.array([repeat(bits) for bits in chan_input])\n",
    "\n",
    "    # flatten result\n",
    "    chan_input = chan_input.flatten()\n",
    "    return chan_input"
   ]
  },
  {
   "cell_type": "code",
   "execution_count": 63,
   "metadata": {},
   "outputs": [],
   "source": [
    "def decodeChannelOutput(chan_output, repetitions):\n",
    "    \"\"\"\n",
    "    Decodes channel output.\n",
    "    The value of the erasure index is computed for each signal and the most occuring one is kept.\n",
    "    \"\"\"\n",
    "    # split output into repetition blocks\n",
    "    chan_output = np.split(chan_output, len(chan_output)/(repetitions * len(signal_set[0])))\n",
    "\n",
    "    # split repetition blocks into signals\n",
    "    def splitRepetitionBlocks(repetition_block):\n",
    "        return np.split(repetition_block, len(repetition_block)/len(signal_set[0]))\n",
    "\n",
    "    chan_output = np.array([splitRepetitionBlocks(repetition_block) for repetition_block in chan_output])\n",
    "\n",
    "    # decide on erasure index\n",
    "    def decide_on_erasure_index(bits):\n",
    "        return np.argmin(np.array([x**2 for x in bits]))\n",
    "    \n",
    "    def decide_on_erasure_index_block(repetition_block):\n",
    "        return np.array([decide_on_erasure_index(bits) for bits in repetition_block])\n",
    "\n",
    "    erasure_index_candidates = np.array([decide_on_erasure_index_block(repetition_block) for repetition_block in chan_output]).flatten()\n",
    "    erasure_index = np.bincount(erasure_index_candidates).argmax()\n",
    "\n",
    "    # print(str(erasure_index))\n",
    "\n",
    "    # decide on index of codeword\n",
    "    def decoder_H0(input):\n",
    "        if (input[1] > 0 and input[2] > 0):\n",
    "            return 0\n",
    "        elif (input[1] > 0 and input[2] < 0):\n",
    "            return 2\n",
    "        elif (input[1] < 0 and input[2] < 0):\n",
    "            return 1\n",
    "        elif (input[1] < 0 and input[2] > 0):\n",
    "            return 3\n",
    "\n",
    "    def decoder_H1(input):\n",
    "        if (input[0] > 0 and input[2] > 0):\n",
    "            return 0\n",
    "        elif (input[0] > 0 and input[2] < 0):\n",
    "            return 1\n",
    "        elif (input[0] < 0 and input[2] < 0):\n",
    "            return 2\n",
    "        elif (input[0] < 0 and input[2] > 0):\n",
    "            return 3\n",
    "\n",
    "    def decoder_H2(input):\n",
    "        if (input[0] > 0 and input[1] > 0):\n",
    "            return 0\n",
    "        elif (input[0] > 0 and input[1] < 0):\n",
    "            return 1\n",
    "        elif (input[0] < 0 and input[1] < 0):\n",
    "            return 3\n",
    "        elif (input[0] < 0 and input[1] > 0):\n",
    "            return 2\n",
    "\n",
    "    def block_decoder(repetition_block):\n",
    "        res = np.array([])\n",
    "        # add to reduce the impact of the noise\n",
    "        repetition_block = np.add.reduce(repetition_block)\n",
    "        if (erasure_index == 0):\n",
    "            return decoder_H0(repetition_block)\n",
    "        elif (erasure_index == 1):\n",
    "            return decoder_H1(repetition_block)\n",
    "        elif (erasure_index == 2):\n",
    "            return decoder_H2(repetition_block)\n",
    "\n",
    "    chan_output = np.array([block_decoder(repetition_block) for repetition_block in chan_output])\n",
    "\n",
    "    # reconstitute channel input\n",
    "    def retrieveInput(index):\n",
    "        return signal_set[index][:2]\n",
    "\n",
    "    chan_output = np.array([retrieveInput(i) for i in chan_output])\n",
    "    chan_output = chan_output.flatten()\n",
    "\n",
    "    return channelOutputToString(chan_output)"
   ]
  },
  {
   "cell_type": "code",
   "execution_count": 73,
   "metadata": {},
   "outputs": [
    {
     "output_type": "stream",
     "name": "stdout",
     "text": [
      "input: \t\t6r%*)a@+hR%=U?PC}1flZEzpYvn%bAPj,`26Y*.z&qw\"]@^%<Ss&{=><EDN{i6~nrxk7aZs:|>-^%:dM\n",
      "input length: \t59640\n",
      "output: \t6r%*)a@+hR%=U?PC}2flZEzpYvn%bAPj,h26Y*.z&qw\"]@^%<Ss&{=><EDN{i6~ns8k7aZs:|>-^%:dM\n",
      "diff: \t\t4\n"
     ]
    }
   ],
   "source": [
    "signal_set = np.array([[1, 1, 1], [1, -1, -1], [-1, 1, -1], [-1, -1, 1]])\n",
    "n_repetitions = 71\n",
    "text_in = generateTestString(characters=80)\n",
    "print(\"input: \\t\\t\" + text_in)\n",
    "chan_input = encodeChannelInput(stringToChannelInput(text_in), n_repetitions)\n",
    "print(\"input length: \\t\" + str(len(chan_input)))\n",
    "chan_output = channel(chan_input)\n",
    "text_out = decodeChannelOutput(chan_output, n_repetitions)\n",
    "print(\"output: \\t\" + text_out)\n",
    "\n",
    "diff = sum(text_in[i] != text_out[i] for i in range(len(text_out)))\n",
    "print(\"diff: \\t\\t\" + str(diff))"
   ]
  },
  {
   "source": [
    "# find best number of repetitions"
   ],
   "cell_type": "markdown",
   "metadata": {}
  },
  {
   "cell_type": "code",
   "execution_count": 70,
   "metadata": {},
   "outputs": [],
   "source": [
    "def tryFor(repetitions_candidates, iterations):\n",
    "    n_tests = np.arange(iterations)\n",
    "    print(\"-----------------------------------------\")\n",
    "    for repetitions_candidate in repetitions_candidates:\n",
    "        errors = 0\n",
    "        for i in n_tests:\n",
    "            text_in = generateTestString(characters=80)\n",
    "            chan_input = encodeChannelInput(stringToChannelInput(text_in), repetitions_candidate)\n",
    "            chan_output = channel(chan_input)\n",
    "            text_out = decodeChannelOutput(chan_output, repetitions_candidate)\n",
    "            diff = sum(text_in[i] != text_out[i] for i in range(len(text_out)))\n",
    "            errors = errors + diff\n",
    "        if errors == 0:\n",
    "            print(\"No mistakes made with \" + str(repetitions_candidate) + \" repetitions!\")\n",
    "            break\n",
    "        average = errors / iterations\n",
    "        print(\"Average \" + str(average) + \"\\t mistakes with \\t\" + str(repetitions_candidate) + \" repetitions\" )\n",
    "    print(\"-----------------------------------------\")"
   ]
  },
  {
   "cell_type": "code",
   "execution_count": 71,
   "metadata": {},
   "outputs": [
    {
     "output_type": "stream",
     "name": "stdout",
     "text": [
      "-----------------------------------------\n"
     ]
    },
    {
     "output_type": "error",
     "ename": "KeyboardInterrupt",
     "evalue": "",
     "traceback": [
      "\u001b[1;31m---------------------------------------------------------------------------\u001b[0m",
      "\u001b[1;31mKeyboardInterrupt\u001b[0m                         Traceback (most recent call last)",
      "\u001b[1;32m<ipython-input-71-9cc3700eeb3b>\u001b[0m in \u001b[0;36m<module>\u001b[1;34m\u001b[0m\n\u001b[1;32m----> 1\u001b[1;33m \u001b[0mtryFor\u001b[0m\u001b[1;33m(\u001b[0m\u001b[0mnp\u001b[0m\u001b[1;33m.\u001b[0m\u001b[0marange\u001b[0m\u001b[1;33m(\u001b[0m\u001b[1;36m10\u001b[0m\u001b[1;33m,\u001b[0m \u001b[1;36m500\u001b[0m\u001b[1;33m,\u001b[0m \u001b[1;36m10\u001b[0m\u001b[1;33m)\u001b[0m\u001b[1;33m,\u001b[0m \u001b[1;36m50\u001b[0m\u001b[1;33m)\u001b[0m\u001b[1;33m\u001b[0m\u001b[1;33m\u001b[0m\u001b[0m\n\u001b[0m",
      "\u001b[1;32m<ipython-input-70-49902bfbe9c5>\u001b[0m in \u001b[0;36mtryFor\u001b[1;34m(repetitions_candidates, iterations)\u001b[0m\n\u001b[0;32m      8\u001b[0m             \u001b[0mchan_input\u001b[0m \u001b[1;33m=\u001b[0m \u001b[0mencodeChannelInput\u001b[0m\u001b[1;33m(\u001b[0m\u001b[0mstringToChannelInput\u001b[0m\u001b[1;33m(\u001b[0m\u001b[0mtext_in\u001b[0m\u001b[1;33m)\u001b[0m\u001b[1;33m,\u001b[0m \u001b[0mrepetitions_candidate\u001b[0m\u001b[1;33m)\u001b[0m\u001b[1;33m\u001b[0m\u001b[1;33m\u001b[0m\u001b[0m\n\u001b[0;32m      9\u001b[0m             \u001b[0mchan_output\u001b[0m \u001b[1;33m=\u001b[0m \u001b[0mchannel\u001b[0m\u001b[1;33m(\u001b[0m\u001b[0mchan_input\u001b[0m\u001b[1;33m)\u001b[0m\u001b[1;33m\u001b[0m\u001b[1;33m\u001b[0m\u001b[0m\n\u001b[1;32m---> 10\u001b[1;33m             \u001b[0mtext_out\u001b[0m \u001b[1;33m=\u001b[0m \u001b[0mdecodeChannelOutput\u001b[0m\u001b[1;33m(\u001b[0m\u001b[0mchan_output\u001b[0m\u001b[1;33m,\u001b[0m \u001b[0mrepetitions_candidate\u001b[0m\u001b[1;33m)\u001b[0m\u001b[1;33m\u001b[0m\u001b[1;33m\u001b[0m\u001b[0m\n\u001b[0m\u001b[0;32m     11\u001b[0m             \u001b[0mdiff\u001b[0m \u001b[1;33m=\u001b[0m \u001b[0msum\u001b[0m\u001b[1;33m(\u001b[0m\u001b[0mtext_in\u001b[0m\u001b[1;33m[\u001b[0m\u001b[0mi\u001b[0m\u001b[1;33m]\u001b[0m \u001b[1;33m!=\u001b[0m \u001b[0mtext_out\u001b[0m\u001b[1;33m[\u001b[0m\u001b[0mi\u001b[0m\u001b[1;33m]\u001b[0m \u001b[1;32mfor\u001b[0m \u001b[0mi\u001b[0m \u001b[1;32min\u001b[0m \u001b[0mrange\u001b[0m\u001b[1;33m(\u001b[0m\u001b[0mlen\u001b[0m\u001b[1;33m(\u001b[0m\u001b[0mtext_out\u001b[0m\u001b[1;33m)\u001b[0m\u001b[1;33m)\u001b[0m\u001b[1;33m)\u001b[0m\u001b[1;33m\u001b[0m\u001b[1;33m\u001b[0m\u001b[0m\n\u001b[0;32m     12\u001b[0m             \u001b[0merrors\u001b[0m \u001b[1;33m=\u001b[0m \u001b[0merrors\u001b[0m \u001b[1;33m+\u001b[0m \u001b[0mdiff\u001b[0m\u001b[1;33m\u001b[0m\u001b[1;33m\u001b[0m\u001b[0m\n",
      "\u001b[1;32m<ipython-input-60-c08c6ec7c83f>\u001b[0m in \u001b[0;36mdecodeChannelOutput\u001b[1;34m(chan_output, repetitions)\u001b[0m\n\u001b[0;32m     11\u001b[0m         \u001b[1;32mreturn\u001b[0m \u001b[0mnp\u001b[0m\u001b[1;33m.\u001b[0m\u001b[0msplit\u001b[0m\u001b[1;33m(\u001b[0m\u001b[0mrepetition_block\u001b[0m\u001b[1;33m,\u001b[0m \u001b[0mlen\u001b[0m\u001b[1;33m(\u001b[0m\u001b[0mrepetition_block\u001b[0m\u001b[1;33m)\u001b[0m\u001b[1;33m/\u001b[0m\u001b[0mlen\u001b[0m\u001b[1;33m(\u001b[0m\u001b[0msignal_set\u001b[0m\u001b[1;33m[\u001b[0m\u001b[1;36m0\u001b[0m\u001b[1;33m]\u001b[0m\u001b[1;33m)\u001b[0m\u001b[1;33m)\u001b[0m\u001b[1;33m\u001b[0m\u001b[1;33m\u001b[0m\u001b[0m\n\u001b[0;32m     12\u001b[0m \u001b[1;33m\u001b[0m\u001b[0m\n\u001b[1;32m---> 13\u001b[1;33m     \u001b[0mchan_output\u001b[0m \u001b[1;33m=\u001b[0m \u001b[0mnp\u001b[0m\u001b[1;33m.\u001b[0m\u001b[0marray\u001b[0m\u001b[1;33m(\u001b[0m\u001b[1;33m[\u001b[0m\u001b[0msplitRepetitionBlocks\u001b[0m\u001b[1;33m(\u001b[0m\u001b[0mrepetition_block\u001b[0m\u001b[1;33m)\u001b[0m \u001b[1;32mfor\u001b[0m \u001b[0mrepetition_block\u001b[0m \u001b[1;32min\u001b[0m \u001b[0mchan_output\u001b[0m\u001b[1;33m]\u001b[0m\u001b[1;33m)\u001b[0m\u001b[1;33m\u001b[0m\u001b[1;33m\u001b[0m\u001b[0m\n\u001b[0m\u001b[0;32m     14\u001b[0m \u001b[1;33m\u001b[0m\u001b[0m\n\u001b[0;32m     15\u001b[0m     \u001b[1;31m# decide on erasure index\u001b[0m\u001b[1;33m\u001b[0m\u001b[1;33m\u001b[0m\u001b[1;33m\u001b[0m\u001b[0m\n",
      "\u001b[1;31mKeyboardInterrupt\u001b[0m: "
     ]
    }
   ],
   "source": [
    "tryFor(np.arange(10, 500, 10), 50)"
   ]
  },
  {
   "cell_type": "code",
   "execution_count": 79,
   "metadata": {},
   "outputs": [],
   "source": [
    "def computeAccuracy(tests, repetitions, tolerance):\n",
    "    init = True\n",
    "    errors = 0\n",
    "    average = 0\n",
    "    for i in np.arange(tests):\n",
    "        text_in = generateTestString(characters=80)\n",
    "        chan_input = encodeChannelInput(stringToChannelInput(text_in), repetitions)\n",
    "        if (init):\n",
    "            print(\"Input length is n=\" + str(len(chan_input)))\n",
    "            init = False\n",
    "        chan_output = channel(chan_input)\n",
    "        text_out = decodeChannelOutput(chan_output, repetitions)\n",
    "        diff = sum(text_in[i] != text_out[i] for i in range(len(text_out)))\n",
    "        if (diff > tolerance):\n",
    "            errors += 1\n",
    "        average += diff\n",
    "    percentage = (tests - errors) / tests * 100\n",
    "    average = average / tests\n",
    "    print(\"Percentage of decodings with less than \" + str(tolerance) + \" mistakes in \" + str(tests) + \" attempts is \" + str(percentage) + \"%\" + \" with an average of \" + str(average) + \" errors.\")"
   ]
  },
  {
   "cell_type": "code",
   "execution_count": 81,
   "metadata": {},
   "outputs": [
    {
     "output_type": "stream",
     "name": "stdout",
     "text": [
      "Input length is n=59640\n",
      "Percentage of decodings with less than 5 mistakes in 500 attempts is 98.4% with an average of 2.146 errors.\n"
     ]
    }
   ],
   "source": [
    "computeAccuracy(tests=100, repetitions=71, tolerance=5)"
   ]
  }
 ]
}
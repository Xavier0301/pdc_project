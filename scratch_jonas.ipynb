{
 "metadata": {
  "language_info": {
   "codemirror_mode": {
    "name": "ipython",
    "version": 3
   },
   "file_extension": ".py",
   "mimetype": "text/x-python",
   "name": "python",
   "nbconvert_exporter": "python",
   "pygments_lexer": "ipython3",
   "version": "3.8.3"
  },
  "orig_nbformat": 2,
  "kernelspec": {
   "name": "python383jvsc74a57bd097ae724bfa85b9b34df7982b8bb8c7216f435b92902d749e4263f71162bea840",
   "display_name": "Python 3.8.3 64-bit (conda)"
  },
  "metadata": {
   "interpreter": {
    "hash": "3413f9f06e370d25235c5c8fcfd99c09335104504a07d86118bcad3e1224d0a7"
   }
  }
 },
 "nbformat": 4,
 "nbformat_minor": 2,
 "cells": [
  {
   "source": [
    "# Helper functions"
   ],
   "cell_type": "markdown",
   "metadata": {}
  },
  {
   "cell_type": "code",
   "execution_count": 6,
   "metadata": {},
   "outputs": [],
   "source": [
    "import numpy as np\n",
    "import string\n",
    "import random\n",
    "import io"
   ]
  },
  {
   "cell_type": "code",
   "execution_count": 150,
   "metadata": {},
   "outputs": [],
   "source": [
    "# From Xavier\n",
    "def strToBits(string):\n",
    "    res = []\n",
    "    byte_string = string.encode('utf-8')\n",
    "    for b in byte_string:\n",
    "        bit_array = bin(b)[2:]\n",
    "        bit_array = '00000000'[len(bit_array):] + bit_array\n",
    "        res.extend(bit_array[1:])\n",
    "    return np.array(res, dtype='int64')\n",
    "\n",
    "def stringToChannelInput(string):\n",
    "    bits = np.array(strToBits(string), dtype='int64')\n",
    "    return 2*bits - 1\n",
    "\n",
    "def channelOutputToString(channel_output):\n",
    "    bits = ((channel_output+1)/2).astype('int64').tolist()\n",
    "    byte_string = \"\"\n",
    "    for char_index in range(len(bits)//7):\n",
    "        bit_list = bits[char_index*7:(char_index+1)*7]\n",
    "        byte = chr(int(''.join([str(bit) for bit in bit_list]), 2))\n",
    "        byte_string += byte\n",
    "    return byte_string\n",
    "\n",
    "def binaryToString(bits):\n",
    "    bits = bits.tolist()\n",
    "    byte_string = \"\"\n",
    "    for char_index in range(len(bits)//7):\n",
    "        bit_list = bits[char_index*7:(char_index+1)*7]\n",
    "        byte = chr(int(''.join([str(bit) for bit in bit_list]), 2))\n",
    "        byte_string += byte\n",
    "    return byte_string"
   ]
  },
  {
   "cell_type": "code",
   "execution_count": 152,
   "metadata": {},
   "outputs": [],
   "source": [
    "# From handout\n",
    "def channel(chan_input, erasedIndex=None):\n",
    "    chan_input = np.clip(chan_input,-1,1)\n",
    "    if (erasedIndex == None):\n",
    "        erasedIndex = np.random.randint(3)\n",
    "        # print(\"erase index is: \" + str(erasedIndex))\n",
    "    chan_input[erasedIndex:len(chan_input):3] = 0\n",
    "    return chan_input + np.sqrt(10)*np.random.randn(len(chan_input))"
   ]
  },
  {
   "cell_type": "code",
   "execution_count": 3,
   "metadata": {},
   "outputs": [],
   "source": [
    "def channelWoNoise(chan_input, erasedIndex):\n",
    "    \"\"\"\n",
    "    Emulates communication channel without noise.\n",
    "    erasedIndex is used to specify H\n",
    "    \"\"\"\n",
    "    chan_input = np.clip(chan_input,-1,1)\n",
    "    chan_input[erasedIndex:len(chan_input):3] = 0\n",
    "    return chan_input"
   ]
  },
  {
   "cell_type": "code",
   "execution_count": 4,
   "metadata": {},
   "outputs": [],
   "source": [
    "def generateTestString(characters=80):\n",
    "    \"\"\"\n",
    "    Function to generate a random utf-8 encoded string.\n",
    "    \"\"\"\n",
    "    return ''.join(random.choices(string.ascii_letters + string.digits + string.punctuation, k=characters))"
   ]
  },
  {
   "cell_type": "code",
   "execution_count": 5,
   "metadata": {},
   "outputs": [],
   "source": [
    "def generateTestFile(characters=80, filename=\"scratch\"):\n",
    "    \"\"\"\n",
    "    Function to generate a file containing a random utf-8 encoded string.\n",
    "    Returns the generated text.\n",
    "    \"\"\"\n",
    "    text = generateTestString(characters)\n",
    "    with io.open(filename+\".txt\", \"w\", encoding='utf8') as f:\n",
    "        f.write(text)\n",
    "    return text"
   ]
  },
  {
   "cell_type": "code",
   "execution_count": 7,
   "metadata": {},
   "outputs": [],
   "source": [
    "def readTestFile(filename=\"scratch\"):\n",
    "    \"\"\"\n",
    "    Function to read a text file as channel input.\n",
    "    Returns the file text in the channel input format.\n",
    "    \"\"\"\n",
    "    text = ''\n",
    "    with io.open(filename+\".txt\", encoding='utf8') as f:\n",
    "        text = f.read()\n",
    "    return stringToChannelInput(text)"
   ]
  },
  {
   "cell_type": "code",
   "execution_count": 8,
   "metadata": {},
   "outputs": [],
   "source": [
    "def genCodebook(initial=[[1]], k=5):\n",
    "\n",
    "    def inverseSign(word):\n",
    "        return [-i for i in word]\n",
    "\n",
    "    if k == 0:\n",
    "        return initial\n",
    "    else:\n",
    "        new = [word + inverseSign(word) for word in initial] + [word + word for word in initial]\n",
    "        return genCodebook(new, k-1)\n",
    "\n",
    "\n",
    "def pruneFirstInCodebook(codebook):\n",
    "    return [codeword[1:] for codeword in codebook]\n",
    "\n",
    "def binaryToDecimal(bits):\n",
    "    res = 0\n",
    "    for i in range(len(bits)):\n",
    "        res += bits[i] * (2**i)\n",
    "    return int(res)\n",
    "\n",
    "def decimalToBinary(d, s):\n",
    "    res = np.zeros(s, dtype='int64')\n",
    "    tmp = list(bin(d).replace(\"0b\", \"\"))[::-1]\n",
    "    if (len(tmp) > s):\n",
    "        print(\"WARNING number too big to fit into expected binary length!\")\n",
    "    res[:len(tmp)] = tmp\n",
    "    return res"
   ]
  },
  {
   "cell_type": "code",
   "execution_count": 145,
   "metadata": {},
   "outputs": [],
   "source": [
    "def encode(chan_input, codebook, k):\n",
    "    \"\"\"\n",
    "    Makes channel input ready for transmission.\n",
    "    Each input bit pair is mapped to a length 3 signal which is then repeated\n",
    "\n",
    "    param: chan_input the input bit string\n",
    "    param: codebook the orthogonal code codebook\n",
    "    returns: the encoded input string ready for transmission through the channel\n",
    "    \"\"\"\n",
    "    # first do the utf-8 encoding of the string\n",
    "    chan_input = strToBits(chan_input)\n",
    "\n",
    "    # pad with zeros\n",
    "    n = len(chan_input)\n",
    "    n_blocks = n // k  \n",
    "\n",
    "    # map each block of bits to a code from the codebook\n",
    "    res = np.array([], dtype='int64')\n",
    "    \n",
    "    for i in range(n_blocks):\n",
    "        res = np.append(res, codebook[binaryToDecimal(chan_input[i*k:(i+1)*k])])\n",
    "\n",
    "    chan_input = res\n",
    "\n",
    "    # # reorder\n",
    "    # tmp = np.zeros(len(chan_input)).astype('int64')\n",
    "\n",
    "    # for i in range(0, len(chan_input), 2*k):\n",
    "    #     b1 = chan_input[i:i+k]\n",
    "    #     b2 = chan_input[i+k:i+2*k]\n",
    "    #     tmp[i:i+2*k-1:2] = b1\n",
    "    #     tmp[i+1:i+2*k:2] = b2\n",
    "    # chan_input = tmp\n",
    "\n",
    "    # map each input pair to the signal whose two first elements are said pair\n",
    "    # def encodeBitPairs(bits):\n",
    "    #     if (np.array_equal(bits, [1, 1])):\n",
    "    #         return signal_set[0]\n",
    "    #     elif (np.array_equal(bits, [1, -1])):\n",
    "    #         return signal_set[1]\n",
    "    #     elif (np.array_equal(bits, [-1, 1])):\n",
    "    #         return signal_set[2]\n",
    "    #     elif (np.array_equal(bits, [-1, -1])):\n",
    "    #         return signal_set[3]\n",
    "\n",
    "    # chan_input = np.split(chan_input, len(chan_input)/2)\n",
    "    # chan_input = np.array([encodeBitPairs(bit) for bit in chan_input])\n",
    "\n",
    "    # flatten result\n",
    "    chan_input = chan_input.flatten()\n",
    "    return chan_input"
   ]
  },
  {
   "cell_type": "code",
   "execution_count": 146,
   "metadata": {},
   "outputs": [],
   "source": [
    "def decode(chan_output, codebook, k):\n",
    "    \"\"\"\n",
    "    Decodes channel output.\n",
    "    The value of the erasure index is computed for each signal and the most occuring one is kept.\n",
    "\n",
    "    param: chan_output the channel output\n",
    "    param: codebook the orthogonal codebook used\n",
    "    return: the decoded string\n",
    "    \"\"\"\n",
    "    # # split output into triplets\n",
    "    # chan_output = np.split(chan_output, len(chan_output)/len(signal_set[0]))\n",
    "\n",
    "    # # decide on erasure index\n",
    "    # def decide_on_erasure_index(triplet):\n",
    "    #     return np.argmin(np.array([x**2 for x in triplet]))\n",
    "    \n",
    "    # erasure_index_candidates = np.array([decide_on_erasure_index(triplet) for triplet in chan_output])\n",
    "    # erasure_index = np.bincount(erasure_index_candidates).argmax()\n",
    "\n",
    "    # # print(\"decided on erasure index: \" + str(erasure_index))\n",
    "\n",
    "    # # decide on index of codeword\n",
    "    # def decoder_H0(input):\n",
    "    #     if (input[1] > 0 and input[2] > 0):\n",
    "    #         return 0\n",
    "    #     elif (input[1] > 0 and input[2] < 0):\n",
    "    #         return 2\n",
    "    #     elif (input[1] < 0 and input[2] < 0):\n",
    "    #         return 1\n",
    "    #     elif (input[1] < 0 and input[2] > 0):\n",
    "    #         return 3\n",
    "\n",
    "    # def decoder_H1(input):\n",
    "    #     if (input[0] > 0 and input[2] > 0):\n",
    "    #         return 0\n",
    "    #     elif (input[0] > 0 and input[2] < 0):\n",
    "    #         return 1\n",
    "    #     elif (input[0] < 0 and input[2] < 0):\n",
    "    #         return 2\n",
    "    #     elif (input[0] < 0 and input[2] > 0):\n",
    "    #         return 3\n",
    "\n",
    "    # def decoder_H2(input):\n",
    "    #     if (input[0] > 0 and input[1] > 0):\n",
    "    #         return 0\n",
    "    #     elif (input[0] > 0 and input[1] < 0):\n",
    "    #         return 1\n",
    "    #     elif (input[0] < 0 and input[1] < 0):\n",
    "    #         return 3\n",
    "    #     elif (input[0] < 0 and input[1] > 0):\n",
    "    #         return 2\n",
    "\n",
    "    # def triplet_decoder(triplet):\n",
    "    #     if (erasure_index == 0):\n",
    "    #         return decoder_H0(triplet)\n",
    "    #     elif (erasure_index == 1):\n",
    "    #         return decoder_H1(triplet)\n",
    "    #     elif (erasure_index == 2):\n",
    "    #         return decoder_H2(triplet)\n",
    "\n",
    "    # chan_output = np.array([triplet_decoder(triplet) for triplet in chan_output])\n",
    "\n",
    "    # # reconstitute triplets\n",
    "    # def retrieveInput(index):\n",
    "    #     return signal_set[index][:2]\n",
    "\n",
    "    # chan_output = np.array([retrieveInput(i) for i in chan_output])\n",
    "    # chan_output = chan_output.flatten()\n",
    "\n",
    "    # # reorder\n",
    "    # tmp = np.zeros(len(chan_output)).astype('int64')\n",
    "    # for i in range(0, len(chan_output), 2*k):\n",
    "    #     b = chan_output[i:i+2*k]\n",
    "    #     tmp[i:i+k] = b[i::2]\n",
    "    #     tmp[i+k:i+2*k] = b[i+1::2]\n",
    "    # chan_output = tmp\n",
    "\n",
    "    # retrieve input\n",
    "    def find(codebook, codeword):\n",
    "        res = np.array([])\n",
    "        for c in codebook:\n",
    "            res = np.append(res, np.inner(c, codeword))\n",
    "        return res.argmax()\n",
    "\n",
    "    chan_output = np.split(chan_output, len(chan_output)/len(codebook[0]))\n",
    "    chan_output = np.array([find(codebook, codeword) for codeword in chan_output])\n",
    "    chan_output = np.array([decimalToBinary(codeword, k) for codeword in chan_output]).flatten()\n",
    "\n",
    "    # transform back into string\n",
    "    chan_output = binaryToString(chan_output)\n",
    "\n",
    "    return chan_output"
   ]
  },
  {
   "cell_type": "code",
   "execution_count": 151,
   "metadata": {
    "tags": []
   },
   "outputs": [
    {
     "output_type": "stream",
     "name": "stdout",
     "text": [
      "input: \t\tk$`&Oj,q(^uev4I66`47sEj]?d5w`5alC]0{8Z1Jy5mjBQ[LPdH-Ost(;{yG-]**P.]A43]=(wj/9I9y\n",
      "input length: \t57344\n",
      "erase index is: 0\n",
      "output: \tk$`&Oj,q(^uev4I66`47sEj]?d5w`5alC]0{8Z1Jy5mjBQ[LPdH-Ost(;{yG-]**P.]A43]=(wj/9I9y\n",
      "diff: \t\t0\n"
     ]
    }
   ],
   "source": [
    "signal_set = np.array([[1, 1, 1], [1, -1, -1], [-1, 1, -1], [-1, -1, 1]])\n",
    "k = 10\n",
    "codebook = genCodebook(k=k)\n",
    "# random.shuffle(codebook)\n",
    "text_in = generateTestString(characters=80)\n",
    "print(\"input: \\t\\t\" + text_in)\n",
    "chan_input = encode(text_in, codebook, k)\n",
    "print(\"input length: \\t\" + str(len(chan_input)))\n",
    "chan_output = channel(chan_input)\n",
    "text_out = decode(chan_output, codebook, k)\n",
    "print(\"output: \\t\" + text_out)\n",
    "\n",
    "diff = sum(text_in[i] != text_out[i] for i in range(len(text_out)))\n",
    "print(\"diff: \\t\\t\" + str(diff))"
   ]
  },
  {
   "source": [
    "# find best number of repetitions"
   ],
   "cell_type": "markdown",
   "metadata": {}
  },
  {
   "cell_type": "code",
   "execution_count": 38,
   "metadata": {},
   "outputs": [],
   "source": [
    "def computeAccuracy(tests, k, tolerance, erasedIndex):\n",
    "    init = True\n",
    "    errors = 0\n",
    "    average = 0\n",
    "    codebook = genCodebook(k=k)\n",
    "    for i in np.arange(tests):\n",
    "        text_in = generateTestString(characters=80)\n",
    "        chan_input = encode(text_in, codebook, k)\n",
    "        if (init):\n",
    "            print(\"Input length is n=\" + str(len(chan_input)))\n",
    "            init = False\n",
    "        chan_output = channel(chan_input, erasedIndex)\n",
    "        text_out = decode(chan_output, codebook, k)\n",
    "        diff = sum(text_in[i] != text_out[i] for i in range(len(text_out)))\n",
    "        if (diff > tolerance):\n",
    "            errors += 1\n",
    "        average += diff\n",
    "    percentage = (tests - errors) / tests * 100\n",
    "    average = average / tests\n",
    "    print(\"Percentage of decodings with less than \" + str(tolerance) + \" mistakes in \" + str(tests) + \" attempts is \" + str(percentage) + \"%\" + \" with an average of \" + str(average) + \" errors.\")"
   ]
  },
  {
   "cell_type": "code",
   "execution_count": 35,
   "metadata": {},
   "outputs": [
    {
     "output_type": "stream",
     "name": "stdout",
     "text": [
      "Input length is n=54528\n",
      "Percentage of decodings with less than 0 mistakes in 10 attempts is 0.0% with an average of 38.1 errors.\n"
     ]
    }
   ],
   "source": [
    "computeAccuracy(tests=10, k=9, tolerance=0, erasedIndex=0)"
   ]
  },
  {
   "cell_type": "code",
   "execution_count": 36,
   "metadata": {},
   "outputs": [
    {
     "output_type": "stream",
     "name": "stdout",
     "text": [
      "Input length is n=54528\n",
      "Percentage of decodings with less than 0 mistakes in 10 attempts is 0.0% with an average of 39.4 errors.\n"
     ]
    }
   ],
   "source": [
    "computeAccuracy(tests=10, k=9, tolerance=0, erasedIndex=1)"
   ]
  },
  {
   "cell_type": "code",
   "execution_count": 37,
   "metadata": {},
   "outputs": [
    {
     "output_type": "stream",
     "name": "stdout",
     "text": [
      "Input length is n=54528\n",
      "Percentage of decodings with less than 0 mistakes in 10 attempts is 40.0% with an average of 1.4 errors.\n"
     ]
    }
   ],
   "source": [
    "computeAccuracy(tests=10, k=9, tolerance=0, erasedIndex=2)"
   ]
  },
  {
   "cell_type": "code",
   "execution_count": 153,
   "metadata": {},
   "outputs": [
    {
     "output_type": "stream",
     "name": "stdout",
     "text": [
      "Input length is n=57344\n"
     ]
    },
    {
     "output_type": "error",
     "ename": "KeyboardInterrupt",
     "evalue": "",
     "traceback": [
      "\u001b[1;31m---------------------------------------------------------------------------\u001b[0m",
      "\u001b[1;31mKeyboardInterrupt\u001b[0m                         Traceback (most recent call last)",
      "\u001b[1;32m<ipython-input-153-e1ac5a3f8d97>\u001b[0m in \u001b[0;36m<module>\u001b[1;34m\u001b[0m\n\u001b[1;32m----> 1\u001b[1;33m \u001b[0mcomputeAccuracy\u001b[0m\u001b[1;33m(\u001b[0m\u001b[0mtests\u001b[0m\u001b[1;33m=\u001b[0m\u001b[1;36m500\u001b[0m\u001b[1;33m,\u001b[0m \u001b[0mk\u001b[0m\u001b[1;33m=\u001b[0m\u001b[1;36m10\u001b[0m\u001b[1;33m,\u001b[0m \u001b[0mtolerance\u001b[0m\u001b[1;33m=\u001b[0m\u001b[1;36m0\u001b[0m\u001b[1;33m,\u001b[0m \u001b[0merasedIndex\u001b[0m\u001b[1;33m=\u001b[0m\u001b[1;32mNone\u001b[0m\u001b[1;33m)\u001b[0m\u001b[1;33m\u001b[0m\u001b[1;33m\u001b[0m\u001b[0m\n\u001b[0m",
      "\u001b[1;32m<ipython-input-38-5e04ee78b32e>\u001b[0m in \u001b[0;36mcomputeAccuracy\u001b[1;34m(tests, k, tolerance, erasedIndex)\u001b[0m\n\u001b[0;32m     11\u001b[0m             \u001b[0minit\u001b[0m \u001b[1;33m=\u001b[0m \u001b[1;32mFalse\u001b[0m\u001b[1;33m\u001b[0m\u001b[1;33m\u001b[0m\u001b[0m\n\u001b[0;32m     12\u001b[0m         \u001b[0mchan_output\u001b[0m \u001b[1;33m=\u001b[0m \u001b[0mchannel\u001b[0m\u001b[1;33m(\u001b[0m\u001b[0mchan_input\u001b[0m\u001b[1;33m,\u001b[0m \u001b[0merasedIndex\u001b[0m\u001b[1;33m)\u001b[0m\u001b[1;33m\u001b[0m\u001b[1;33m\u001b[0m\u001b[0m\n\u001b[1;32m---> 13\u001b[1;33m         \u001b[0mtext_out\u001b[0m \u001b[1;33m=\u001b[0m \u001b[0mdecode\u001b[0m\u001b[1;33m(\u001b[0m\u001b[0mchan_output\u001b[0m\u001b[1;33m,\u001b[0m \u001b[0mcodebook\u001b[0m\u001b[1;33m,\u001b[0m \u001b[0mk\u001b[0m\u001b[1;33m)\u001b[0m\u001b[1;33m\u001b[0m\u001b[1;33m\u001b[0m\u001b[0m\n\u001b[0m\u001b[0;32m     14\u001b[0m         \u001b[0mdiff\u001b[0m \u001b[1;33m=\u001b[0m \u001b[0msum\u001b[0m\u001b[1;33m(\u001b[0m\u001b[0mtext_in\u001b[0m\u001b[1;33m[\u001b[0m\u001b[0mi\u001b[0m\u001b[1;33m]\u001b[0m \u001b[1;33m!=\u001b[0m \u001b[0mtext_out\u001b[0m\u001b[1;33m[\u001b[0m\u001b[0mi\u001b[0m\u001b[1;33m]\u001b[0m \u001b[1;32mfor\u001b[0m \u001b[0mi\u001b[0m \u001b[1;32min\u001b[0m \u001b[0mrange\u001b[0m\u001b[1;33m(\u001b[0m\u001b[0mlen\u001b[0m\u001b[1;33m(\u001b[0m\u001b[0mtext_out\u001b[0m\u001b[1;33m)\u001b[0m\u001b[1;33m)\u001b[0m\u001b[1;33m)\u001b[0m\u001b[1;33m\u001b[0m\u001b[1;33m\u001b[0m\u001b[0m\n\u001b[0;32m     15\u001b[0m         \u001b[1;32mif\u001b[0m \u001b[1;33m(\u001b[0m\u001b[0mdiff\u001b[0m \u001b[1;33m>\u001b[0m \u001b[0mtolerance\u001b[0m\u001b[1;33m)\u001b[0m\u001b[1;33m:\u001b[0m\u001b[1;33m\u001b[0m\u001b[1;33m\u001b[0m\u001b[0m\n",
      "\u001b[1;32m<ipython-input-146-e0e92d0872d3>\u001b[0m in \u001b[0;36mdecode\u001b[1;34m(chan_output, codebook, k)\u001b[0m\n\u001b[0;32m     84\u001b[0m \u001b[1;33m\u001b[0m\u001b[0m\n\u001b[0;32m     85\u001b[0m     \u001b[0mchan_output\u001b[0m \u001b[1;33m=\u001b[0m \u001b[0mnp\u001b[0m\u001b[1;33m.\u001b[0m\u001b[0msplit\u001b[0m\u001b[1;33m(\u001b[0m\u001b[0mchan_output\u001b[0m\u001b[1;33m,\u001b[0m \u001b[0mlen\u001b[0m\u001b[1;33m(\u001b[0m\u001b[0mchan_output\u001b[0m\u001b[1;33m)\u001b[0m\u001b[1;33m/\u001b[0m\u001b[0mlen\u001b[0m\u001b[1;33m(\u001b[0m\u001b[0mcodebook\u001b[0m\u001b[1;33m[\u001b[0m\u001b[1;36m0\u001b[0m\u001b[1;33m]\u001b[0m\u001b[1;33m)\u001b[0m\u001b[1;33m)\u001b[0m\u001b[1;33m\u001b[0m\u001b[1;33m\u001b[0m\u001b[0m\n\u001b[1;32m---> 86\u001b[1;33m     \u001b[0mchan_output\u001b[0m \u001b[1;33m=\u001b[0m \u001b[0mnp\u001b[0m\u001b[1;33m.\u001b[0m\u001b[0marray\u001b[0m\u001b[1;33m(\u001b[0m\u001b[1;33m[\u001b[0m\u001b[0mfind\u001b[0m\u001b[1;33m(\u001b[0m\u001b[0mcodebook\u001b[0m\u001b[1;33m,\u001b[0m \u001b[0mcodeword\u001b[0m\u001b[1;33m)\u001b[0m \u001b[1;32mfor\u001b[0m \u001b[0mcodeword\u001b[0m \u001b[1;32min\u001b[0m \u001b[0mchan_output\u001b[0m\u001b[1;33m]\u001b[0m\u001b[1;33m)\u001b[0m\u001b[1;33m\u001b[0m\u001b[1;33m\u001b[0m\u001b[0m\n\u001b[0m\u001b[0;32m     87\u001b[0m     \u001b[0mchan_output\u001b[0m \u001b[1;33m=\u001b[0m \u001b[0mnp\u001b[0m\u001b[1;33m.\u001b[0m\u001b[0marray\u001b[0m\u001b[1;33m(\u001b[0m\u001b[1;33m[\u001b[0m\u001b[0mdecimalToBinary\u001b[0m\u001b[1;33m(\u001b[0m\u001b[0mcodeword\u001b[0m\u001b[1;33m,\u001b[0m \u001b[0mk\u001b[0m\u001b[1;33m)\u001b[0m \u001b[1;32mfor\u001b[0m \u001b[0mcodeword\u001b[0m \u001b[1;32min\u001b[0m \u001b[0mchan_output\u001b[0m\u001b[1;33m]\u001b[0m\u001b[1;33m)\u001b[0m\u001b[1;33m.\u001b[0m\u001b[0mflatten\u001b[0m\u001b[1;33m(\u001b[0m\u001b[1;33m)\u001b[0m\u001b[1;33m\u001b[0m\u001b[1;33m\u001b[0m\u001b[0m\n\u001b[0;32m     88\u001b[0m \u001b[1;33m\u001b[0m\u001b[0m\n",
      "\u001b[1;32m<ipython-input-146-e0e92d0872d3>\u001b[0m in \u001b[0;36m<listcomp>\u001b[1;34m(.0)\u001b[0m\n\u001b[0;32m     84\u001b[0m \u001b[1;33m\u001b[0m\u001b[0m\n\u001b[0;32m     85\u001b[0m     \u001b[0mchan_output\u001b[0m \u001b[1;33m=\u001b[0m \u001b[0mnp\u001b[0m\u001b[1;33m.\u001b[0m\u001b[0msplit\u001b[0m\u001b[1;33m(\u001b[0m\u001b[0mchan_output\u001b[0m\u001b[1;33m,\u001b[0m \u001b[0mlen\u001b[0m\u001b[1;33m(\u001b[0m\u001b[0mchan_output\u001b[0m\u001b[1;33m)\u001b[0m\u001b[1;33m/\u001b[0m\u001b[0mlen\u001b[0m\u001b[1;33m(\u001b[0m\u001b[0mcodebook\u001b[0m\u001b[1;33m[\u001b[0m\u001b[1;36m0\u001b[0m\u001b[1;33m]\u001b[0m\u001b[1;33m)\u001b[0m\u001b[1;33m)\u001b[0m\u001b[1;33m\u001b[0m\u001b[1;33m\u001b[0m\u001b[0m\n\u001b[1;32m---> 86\u001b[1;33m     \u001b[0mchan_output\u001b[0m \u001b[1;33m=\u001b[0m \u001b[0mnp\u001b[0m\u001b[1;33m.\u001b[0m\u001b[0marray\u001b[0m\u001b[1;33m(\u001b[0m\u001b[1;33m[\u001b[0m\u001b[0mfind\u001b[0m\u001b[1;33m(\u001b[0m\u001b[0mcodebook\u001b[0m\u001b[1;33m,\u001b[0m \u001b[0mcodeword\u001b[0m\u001b[1;33m)\u001b[0m \u001b[1;32mfor\u001b[0m \u001b[0mcodeword\u001b[0m \u001b[1;32min\u001b[0m \u001b[0mchan_output\u001b[0m\u001b[1;33m]\u001b[0m\u001b[1;33m)\u001b[0m\u001b[1;33m\u001b[0m\u001b[1;33m\u001b[0m\u001b[0m\n\u001b[0m\u001b[0;32m     87\u001b[0m     \u001b[0mchan_output\u001b[0m \u001b[1;33m=\u001b[0m \u001b[0mnp\u001b[0m\u001b[1;33m.\u001b[0m\u001b[0marray\u001b[0m\u001b[1;33m(\u001b[0m\u001b[1;33m[\u001b[0m\u001b[0mdecimalToBinary\u001b[0m\u001b[1;33m(\u001b[0m\u001b[0mcodeword\u001b[0m\u001b[1;33m,\u001b[0m \u001b[0mk\u001b[0m\u001b[1;33m)\u001b[0m \u001b[1;32mfor\u001b[0m \u001b[0mcodeword\u001b[0m \u001b[1;32min\u001b[0m \u001b[0mchan_output\u001b[0m\u001b[1;33m]\u001b[0m\u001b[1;33m)\u001b[0m\u001b[1;33m.\u001b[0m\u001b[0mflatten\u001b[0m\u001b[1;33m(\u001b[0m\u001b[1;33m)\u001b[0m\u001b[1;33m\u001b[0m\u001b[1;33m\u001b[0m\u001b[0m\n\u001b[0;32m     88\u001b[0m \u001b[1;33m\u001b[0m\u001b[0m\n",
      "\u001b[1;32m<ipython-input-146-e0e92d0872d3>\u001b[0m in \u001b[0;36mfind\u001b[1;34m(codebook, codeword)\u001b[0m\n\u001b[0;32m     80\u001b[0m         \u001b[0mres\u001b[0m \u001b[1;33m=\u001b[0m \u001b[0mnp\u001b[0m\u001b[1;33m.\u001b[0m\u001b[0marray\u001b[0m\u001b[1;33m(\u001b[0m\u001b[1;33m[\u001b[0m\u001b[1;33m]\u001b[0m\u001b[1;33m)\u001b[0m\u001b[1;33m\u001b[0m\u001b[1;33m\u001b[0m\u001b[0m\n\u001b[0;32m     81\u001b[0m         \u001b[1;32mfor\u001b[0m \u001b[0mc\u001b[0m \u001b[1;32min\u001b[0m \u001b[0mcodebook\u001b[0m\u001b[1;33m:\u001b[0m\u001b[1;33m\u001b[0m\u001b[1;33m\u001b[0m\u001b[0m\n\u001b[1;32m---> 82\u001b[1;33m             \u001b[0mres\u001b[0m \u001b[1;33m=\u001b[0m \u001b[0mnp\u001b[0m\u001b[1;33m.\u001b[0m\u001b[0mappend\u001b[0m\u001b[1;33m(\u001b[0m\u001b[0mres\u001b[0m\u001b[1;33m,\u001b[0m \u001b[0mnp\u001b[0m\u001b[1;33m.\u001b[0m\u001b[0minner\u001b[0m\u001b[1;33m(\u001b[0m\u001b[0mc\u001b[0m\u001b[1;33m,\u001b[0m \u001b[0mcodeword\u001b[0m\u001b[1;33m)\u001b[0m\u001b[1;33m)\u001b[0m\u001b[1;33m\u001b[0m\u001b[1;33m\u001b[0m\u001b[0m\n\u001b[0m\u001b[0;32m     83\u001b[0m         \u001b[1;32mreturn\u001b[0m \u001b[0mres\u001b[0m\u001b[1;33m.\u001b[0m\u001b[0margmax\u001b[0m\u001b[1;33m(\u001b[0m\u001b[1;33m)\u001b[0m\u001b[1;33m\u001b[0m\u001b[1;33m\u001b[0m\u001b[0m\n\u001b[0;32m     84\u001b[0m \u001b[1;33m\u001b[0m\u001b[0m\n",
      "\u001b[1;32m<__array_function__ internals>\u001b[0m in \u001b[0;36mappend\u001b[1;34m(*args, **kwargs)\u001b[0m\n",
      "\u001b[1;32mC:\\Anaconda3\\lib\\site-packages\\numpy\\lib\\function_base.py\u001b[0m in \u001b[0;36mappend\u001b[1;34m(arr, values, axis)\u001b[0m\n\u001b[0;32m   4691\u001b[0m         \u001b[0mvalues\u001b[0m \u001b[1;33m=\u001b[0m \u001b[0mravel\u001b[0m\u001b[1;33m(\u001b[0m\u001b[0mvalues\u001b[0m\u001b[1;33m)\u001b[0m\u001b[1;33m\u001b[0m\u001b[1;33m\u001b[0m\u001b[0m\n\u001b[0;32m   4692\u001b[0m         \u001b[0maxis\u001b[0m \u001b[1;33m=\u001b[0m \u001b[0marr\u001b[0m\u001b[1;33m.\u001b[0m\u001b[0mndim\u001b[0m\u001b[1;33m-\u001b[0m\u001b[1;36m1\u001b[0m\u001b[1;33m\u001b[0m\u001b[1;33m\u001b[0m\u001b[0m\n\u001b[1;32m-> 4693\u001b[1;33m     \u001b[1;32mreturn\u001b[0m \u001b[0mconcatenate\u001b[0m\u001b[1;33m(\u001b[0m\u001b[1;33m(\u001b[0m\u001b[0marr\u001b[0m\u001b[1;33m,\u001b[0m \u001b[0mvalues\u001b[0m\u001b[1;33m)\u001b[0m\u001b[1;33m,\u001b[0m \u001b[0maxis\u001b[0m\u001b[1;33m=\u001b[0m\u001b[0maxis\u001b[0m\u001b[1;33m)\u001b[0m\u001b[1;33m\u001b[0m\u001b[1;33m\u001b[0m\u001b[0m\n\u001b[0m\u001b[0;32m   4694\u001b[0m \u001b[1;33m\u001b[0m\u001b[0m\n\u001b[0;32m   4695\u001b[0m \u001b[1;33m\u001b[0m\u001b[0m\n",
      "\u001b[1;32m<__array_function__ internals>\u001b[0m in \u001b[0;36mconcatenate\u001b[1;34m(*args, **kwargs)\u001b[0m\n",
      "\u001b[1;31mKeyboardInterrupt\u001b[0m: "
     ]
    }
   ],
   "source": [
    "computeAccuracy(tests=50, k=10, tolerance=0, erasedIndex=None)"
   ]
  }
 ]
}
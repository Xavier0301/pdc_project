{
 "metadata": {
  "language_info": {
   "codemirror_mode": {
    "name": "ipython",
    "version": 3
   },
   "file_extension": ".py",
   "mimetype": "text/x-python",
   "name": "python",
   "nbconvert_exporter": "python",
   "pygments_lexer": "ipython3",
   "version": "3.8.3"
  },
  "orig_nbformat": 2,
  "kernelspec": {
   "name": "python383jvsc74a57bd097ae724bfa85b9b34df7982b8bb8c7216f435b92902d749e4263f71162bea840",
   "display_name": "Python 3.8.3 64-bit (conda)"
  },
  "metadata": {
   "interpreter": {
    "hash": "3413f9f06e370d25235c5c8fcfd99c09335104504a07d86118bcad3e1224d0a7"
   }
  }
 },
 "nbformat": 4,
 "nbformat_minor": 2,
 "cells": [
  {
   "source": [
    "# Helper functions"
   ],
   "cell_type": "markdown",
   "metadata": {}
  },
  {
   "cell_type": "code",
   "execution_count": 1,
   "metadata": {},
   "outputs": [],
   "source": [
    "import numpy as np\n",
    "import string\n",
    "import random\n",
    "import io"
   ]
  },
  {
   "cell_type": "code",
   "execution_count": 2,
   "metadata": {},
   "outputs": [],
   "source": [
    "def strToBits(string):\n",
    "    res = []\n",
    "    byte_string = string.encode('utf-8')\n",
    "    for b in byte_string:\n",
    "        bit_array = bin(b)[2:]\n",
    "        bit_array = '00000000'[len(bit_array):] + bit_array\n",
    "        # we drop the first bit because it is always 0 for 1 byte utf-8 encoded chars\n",
    "        res.extend(bit_array[1:])\n",
    "    return np.array(res, dtype='int64')\n",
    "\n",
    "def stringToChannelInput(string):\n",
    "    bits = np.array(strToBits(string), dtype='int64')\n",
    "    return 2*bits - 1\n",
    "\n",
    "def channelOutputToString(channel_output):\n",
    "    bits = ((channel_output+1)/2).astype('int64').tolist()\n",
    "    byte_string = \"\"\n",
    "    for char_index in range(len(bits)//7):\n",
    "        bit_list = bits[char_index*7:(char_index+1)*7]\n",
    "        byte = chr(int(''.join([str(bit) for bit in bit_list]), 2))\n",
    "        byte_string += byte\n",
    "    return byte_string\n",
    "\n",
    "def binaryToString(bits):\n",
    "    bits = bits.tolist()\n",
    "    byte_string = \"\"\n",
    "    for char_index in range(len(bits)//7):\n",
    "        bit_list = bits[char_index*7:(char_index+1)*7]\n",
    "        byte = chr(int(''.join([str(bit) for bit in bit_list]), 2))\n",
    "        byte_string += byte\n",
    "    return byte_string"
   ]
  },
  {
   "cell_type": "code",
   "execution_count": 3,
   "metadata": {},
   "outputs": [],
   "source": [
    "# From handout\n",
    "def channel(chan_input, erasedIndex=None):\n",
    "    chan_input = np.clip(chan_input,-1,1)\n",
    "    if (erasedIndex == None):\n",
    "        erasedIndex = np.random.randint(3)\n",
    "    chan_input[erasedIndex:len(chan_input):3] = 0\n",
    "    return chan_input + np.sqrt(10)*np.random.randn(len(chan_input))"
   ]
  },
  {
   "cell_type": "code",
   "execution_count": 4,
   "metadata": {},
   "outputs": [],
   "source": [
    "def channelWoNoise(chan_input, erasedIndex):\n",
    "    \"\"\"\n",
    "    Emulates communication channel without noise.\n",
    "    erasedIndex is used to specify H\n",
    "    \"\"\"\n",
    "    chan_input = np.clip(chan_input,-1,1)\n",
    "    chan_input[erasedIndex:len(chan_input):3] = 0\n",
    "    return chan_input"
   ]
  },
  {
   "cell_type": "code",
   "execution_count": 5,
   "metadata": {},
   "outputs": [],
   "source": [
    "def generateTestString(characters=80):\n",
    "    \"\"\"\n",
    "    Function to generate a random utf-8 encoded string.\n",
    "    \"\"\"\n",
    "    return ''.join(random.choices(string.ascii_letters + string.digits + string.punctuation, k=characters))"
   ]
  },
  {
   "cell_type": "code",
   "execution_count": 6,
   "metadata": {},
   "outputs": [],
   "source": [
    "def generateTestFile(characters=80, filename=\"scratch\"):\n",
    "    \"\"\"\n",
    "    Function to generate a file containing a random utf-8 encoded string.\n",
    "    Returns the generated text.\n",
    "    \"\"\"\n",
    "    text = generateTestString(characters)\n",
    "    with io.open(filename+\".txt\", \"w\", encoding='utf8') as f:\n",
    "        f.write(text)\n",
    "    return text"
   ]
  },
  {
   "cell_type": "code",
   "execution_count": 7,
   "metadata": {},
   "outputs": [
    {
     "output_type": "execute_result",
     "data": {
      "text/plain": [
       "'_0Y.{x<b7X44M/FU>?$~nU4jgklHwr\",<ueQ[t~(AJT+l3|)pM/vdlE,!Ysi6E;SpC\\\\XM~UWR/U\\\\FAb@'"
      ]
     },
     "metadata": {},
     "execution_count": 7
    }
   ],
   "source": [
    "generateTestFile(filename=\"input_string\")"
   ]
  },
  {
   "cell_type": "code",
   "execution_count": 8,
   "metadata": {},
   "outputs": [],
   "source": [
    "def readTestFile(filename=\"scratch\"):\n",
    "    \"\"\"\n",
    "    Function to read a text file as channel input.\n",
    "    Returns the file text in the channel input format.\n",
    "    \"\"\"\n",
    "    text = ''\n",
    "    with io.open(filename+\".txt\", encoding='utf8') as f:\n",
    "        text = f.read()\n",
    "    return stringToChannelInput(text)"
   ]
  },
  {
   "cell_type": "code",
   "execution_count": 9,
   "metadata": {},
   "outputs": [],
   "source": [
    "def genCodebook(initial=[[1]], k=5):\n",
    "\n",
    "    def inverseSign(word):\n",
    "        return [-i for i in word]\n",
    "\n",
    "    if k == 0:\n",
    "        return initial\n",
    "    else:\n",
    "        new = [word + inverseSign(word) for word in initial] + [word + word for word in initial]\n",
    "        return genCodebook(new, k-1)\n",
    "\n",
    "\n",
    "def pruneFirstInCodebook(codebook):\n",
    "    return [codeword[1:] for codeword in codebook]\n",
    "\n",
    "def binaryToDecimal(bits):\n",
    "    res = 0\n",
    "    for i in range(len(bits)):\n",
    "        res += bits[i] * (2**i)\n",
    "    return int(res)\n",
    "\n",
    "def decimalToBinary(d, s):\n",
    "    res = np.zeros(s, dtype='int64')\n",
    "    tmp = list(bin(d).replace(\"0b\", \"\"))[::-1]\n",
    "    if (len(tmp) > s):\n",
    "        print(\"WARNING number too big to fit into expected binary length!\")\n",
    "    res[:len(tmp)] = tmp\n",
    "    return res"
   ]
  },
  {
   "cell_type": "code",
   "execution_count": 101,
   "metadata": {},
   "outputs": [],
   "source": [
    "def encode(chan_input, codebook, k):\n",
    "    \"\"\"\n",
    "    Makes channel input ready for transmission.\n",
    "    Each input bit pair is mapped to a length 3 signal which is then repeated\n",
    "\n",
    "    param: chan_input the input bit string\n",
    "    param: codebook the orthogonal code codebook\n",
    "    returns: the encoded input string ready for transmission through the channel\n",
    "    \"\"\"\n",
    "    # first do the utf-8 encoding of the string\n",
    "    chan_input = strToBits(chan_input)\n",
    "\n",
    "    # pad with zeros\n",
    "    n = len(chan_input)\n",
    "    n_blocks = n // k\n",
    "    print(n)\n",
    "    \n",
    "    padding_size = k - n % k\n",
    "    padding = np.zeros(padding_size).astype('int64')\n",
    "    print(padding)\n",
    "    if (padding_size < 10):\n",
    "        chan_input = np.append(chan_input, padding)\n",
    "        print(decimalToBinary(padding_size, k))\n",
    "        chan_input = np.append(chan_input, decimalToBinary(padding_size, k))\n",
    "        n_blocks += 2\n",
    "\n",
    "    # map each block of bits to a code from the codebook\n",
    "    res = np.array([], dtype='int64')\n",
    "    \n",
    "    for i in range(n_blocks):\n",
    "        res = np.append(res, codebook[binaryToDecimal(chan_input[i*k:(i+1)*k])])\n",
    "\n",
    "    chan_input = res\n",
    "\n",
    "    # flatten result\n",
    "    chan_input = chan_input.flatten()\n",
    "    return chan_input"
   ]
  },
  {
   "cell_type": "code",
   "execution_count": 102,
   "metadata": {},
   "outputs": [],
   "source": [
    "def decode(chan_output, codebook, k):\n",
    "    \"\"\"\n",
    "    Decodes channel output.\n",
    "    The value of the erasure index is computed for each signal and the most occuring one is kept.\n",
    "\n",
    "    param: chan_output the channel output\n",
    "    param: codebook the orthogonal codebook used\n",
    "    return: the decoded string\n",
    "    \"\"\"\n",
    "    # retrieve input\n",
    "    def find(codebook, codeword):\n",
    "        res = np.array([])\n",
    "        for c in codebook:\n",
    "            res = np.append(res, np.inner(c, codeword))\n",
    "        return res.argmax()\n",
    "\n",
    "    chan_output = np.split(chan_output, len(chan_output)/len(codebook[0]))\n",
    "    chan_output = np.array([find(codebook, codeword) for codeword in chan_output])\n",
    "\n",
    "    # remove padding\n",
    "    chan_output = np.array([decimalToBinary(codeword, k) for codeword in chan_output]).flatten()\n",
    "    padding_size = binaryToDecimal(chan_output[-k:])\n",
    "    print(padding_size)\n",
    "    if (padding_size < k):\n",
    "        chan_output = chan_output[:-(padding_size+k)]\n",
    "\n",
    "    # transform back into string\n",
    "    chan_output = binaryToString(chan_output)\n",
    "\n",
    "    return chan_output"
   ]
  },
  {
   "cell_type": "code",
   "execution_count": 109,
   "metadata": {
    "tags": []
   },
   "outputs": [
    {
     "output_type": "stream",
     "name": "stdout",
     "text": [
      "input: \t\t8Vu\n",
      "21\n",
      "[0 0 0 0 0 0 0 0 0]\n",
      "[1 0 0 1 0 0 0 0 0 0]\n",
      "input length: \t4096\n",
      "9\n",
      "output: \t8Vu\n",
      "diff: \t\t0\n"
     ]
    }
   ],
   "source": [
    "signal_set = np.array([[1, 1, 1], [1, -1, -1], [-1, 1, -1], [-1, -1, 1]])\n",
    "k = 10\n",
    "codebook = genCodebook(k=k)\n",
    "text_in = generateTestString(characters=3)\n",
    "print(\"input: \\t\\t\" + text_in)\n",
    "chan_input = encode(text_in, codebook, k)\n",
    "print(\"input length: \\t\" + str(len(chan_input)))\n",
    "chan_output = channel(chan_input)\n",
    "text_out = decode(chan_output, codebook, k)\n",
    "print(\"output: \\t\" + text_out)\n",
    "\n",
    "diff = sum(text_in[i] != text_out[i] for i in range(len(text_out)))\n",
    "print(\"diff: \\t\\t\" + str(diff))"
   ]
  },
  {
   "source": [
    "# find best number of repetitions"
   ],
   "cell_type": "markdown",
   "metadata": {}
  },
  {
   "cell_type": "code",
   "execution_count": 13,
   "metadata": {},
   "outputs": [],
   "source": [
    "def computeAccuracy(tests, k, tolerance, erasedIndex):\n",
    "    init = True\n",
    "    errors = 0\n",
    "    average = 0\n",
    "    codebook = genCodebook(k=k)\n",
    "    for i in np.arange(tests):\n",
    "        text_in = generateTestString(characters=80)\n",
    "        chan_input = encode(text_in, codebook, k)\n",
    "        if (init):\n",
    "            print(\"Input length is n=\" + str(len(chan_input)))\n",
    "            init = False\n",
    "        chan_output = channel(chan_input, erasedIndex)\n",
    "        text_out = decode(chan_output, codebook, k)\n",
    "        diff = sum(text_in[i] != text_out[i] for i in range(len(text_out)))\n",
    "        if (diff > tolerance):\n",
    "            errors += 1\n",
    "        average += diff\n",
    "    percentage = (tests - errors) / tests * 100\n",
    "    average = average / tests\n",
    "    print(\"Percentage of decodings with less than \" + str(tolerance) + \" mistakes in \" + str(tests) + \" attempts is \" + str(percentage) + \"%\" + \" with an average of \" + str(average) + \" errors.\")"
   ]
  },
  {
   "cell_type": "code",
   "execution_count": 154,
   "metadata": {},
   "outputs": [
    {
     "output_type": "stream",
     "name": "stdout",
     "text": [
      "Input length is n=57344\n",
      "Percentage of decodings with less than 0 mistakes in 50 attempts is 98.0% with an average of 0.04 errors.\n"
     ]
    }
   ],
   "source": [
    "computeAccuracy(tests=50, k=10, tolerance=0, erasedIndex=None)"
   ]
  }
 ]
}
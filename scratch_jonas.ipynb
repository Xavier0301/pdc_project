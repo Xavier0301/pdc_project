{
 "metadata": {
  "language_info": {
   "codemirror_mode": {
    "name": "ipython",
    "version": 3
   },
   "file_extension": ".py",
   "mimetype": "text/x-python",
   "name": "python",
   "nbconvert_exporter": "python",
   "pygments_lexer": "ipython3",
   "version": "3.8.3"
  },
  "orig_nbformat": 2,
  "kernelspec": {
   "name": "python383jvsc74a57bd097ae724bfa85b9b34df7982b8bb8c7216f435b92902d749e4263f71162bea840",
   "display_name": "Python 3.8.3 64-bit"
  },
  "metadata": {
   "interpreter": {
    "hash": "3413f9f06e370d25235c5c8fcfd99c09335104504a07d86118bcad3e1224d0a7"
   }
  }
 },
 "nbformat": 4,
 "nbformat_minor": 2,
 "cells": [
  {
   "source": [
    "# Helper functions"
   ],
   "cell_type": "markdown",
   "metadata": {}
  },
  {
   "cell_type": "code",
   "execution_count": 1,
   "metadata": {},
   "outputs": [],
   "source": [
    "import numpy as np\n",
    "import string\n",
    "import random\n",
    "import io"
   ]
  },
  {
   "cell_type": "code",
   "execution_count": 2,
   "metadata": {},
   "outputs": [],
   "source": [
    "# From Xavier\n",
    "def strToBits(string):\n",
    "    res = []\n",
    "    byte_string = string.encode('utf-8')\n",
    "    for b in byte_string:\n",
    "        bit_array = bin(b)[2:]\n",
    "        bit_array = '00000000'[len(bit_array):] + bit_array\n",
    "        res.extend(bit_array)\n",
    "    return res\n",
    "\n",
    "def stringToChannelInput(string):\n",
    "    bits = np.array(strToBits(string), dtype='int64')\n",
    "    return 2*bits - 1\n",
    "\n",
    "def channelOutputToString(channel_output):\n",
    "    bits = ((channel_output+1)/2).astype('int64').tolist()\n",
    "    byte_string = \"\"\n",
    "    for char_index in range(len(bits)//8):\n",
    "        bit_list = bits[char_index*8:(char_index+1)*8]\n",
    "        byte = chr(int(''.join([str(bit) for bit in bit_list]), 2))\n",
    "        byte_string += byte\n",
    "    return byte_string"
   ]
  },
  {
   "cell_type": "code",
   "execution_count": 13,
   "metadata": {},
   "outputs": [],
   "source": [
    "# From handout\n",
    "def channel(chan_input):\n",
    "    chan_input = np.clip(chan_input,-1,1)\n",
    "    erasedIndex = np.random.randint(3)\n",
    "    print(\"erase index is: \" + str(erasedIndex))\n",
    "    chan_input[erasedIndex:len(chan_input):3] = 0\n",
    "    return chan_input + np.sqrt(10)*np.random.randn(len(chan_input))"
   ]
  },
  {
   "cell_type": "code",
   "execution_count": 4,
   "metadata": {},
   "outputs": [],
   "source": [
    "def channelWoNoise(chan_input, erasedIndex):\n",
    "    \"\"\"\n",
    "    Emulates communication channel without noise.\n",
    "    erasedIndex is used to specify H\n",
    "    \"\"\"\n",
    "    chan_input = np.clip(chan_input,-1,1)\n",
    "    chan_input[erasedIndex:len(chan_input):3] = 0\n",
    "    return chan_input"
   ]
  },
  {
   "cell_type": "code",
   "execution_count": 5,
   "metadata": {},
   "outputs": [],
   "source": [
    "def generateTestString(characters=80):\n",
    "    \"\"\"\n",
    "    Function to generate a random utf-8 encoded string.\n",
    "    \"\"\"\n",
    "    return ''.join(random.choices(string.ascii_letters + string.digits + string.punctuation, k=characters))"
   ]
  },
  {
   "cell_type": "code",
   "execution_count": 6,
   "metadata": {},
   "outputs": [],
   "source": [
    "def generateTestFile(characters=80, filename=\"scratch\"):\n",
    "    \"\"\"\n",
    "    Function to generate a file containing a random utf-8 encoded string.\n",
    "    Returns the generated text.\n",
    "    \"\"\"\n",
    "    text = generateTestString(characters)\n",
    "    with io.open(filename+\".txt\", \"w\", encoding='utf8') as f:\n",
    "        f.write(text)\n",
    "    return text"
   ]
  },
  {
   "cell_type": "code",
   "execution_count": 7,
   "metadata": {},
   "outputs": [],
   "source": [
    "def readTestFile(filename=\"scratch\"):\n",
    "    \"\"\"\n",
    "    Function to read a text file as channel input.\n",
    "    Returns the file text in the channel input format.\n",
    "    \"\"\"\n",
    "    text = ''\n",
    "    with io.open(filename+\".txt\", encoding='utf8') as f:\n",
    "        text = f.read()\n",
    "    return stringToChannelInput(text)"
   ]
  },
  {
   "cell_type": "code",
   "execution_count": 8,
   "metadata": {},
   "outputs": [],
   "source": [
    "def encodeChannelInput(chan_input, repetitions):\n",
    "    \"\"\"\n",
    "    Makes channel input ready for transmission.\n",
    "    Each input bit pair is mapped to a length 3 signal which is then repeated\n",
    "    \"\"\"\n",
    "    # map each input pair to the signal whose two first elements are said pair\n",
    "    def encodeBitPairs(bits):\n",
    "        if (np.array_equal(bits, [1, 1])):\n",
    "            return signal_set[0]\n",
    "        elif (np.array_equal(bits, [1, -1])):\n",
    "            return signal_set[1]\n",
    "        elif (np.array_equal(bits, [-1, 1])):\n",
    "            return signal_set[2]\n",
    "        elif (np.array_equal(bits, [-1, -1])):\n",
    "            return signal_set[3]\n",
    "\n",
    "    chan_input = np.split(chan_input, len(chan_input)/2)\n",
    "    chan_input = np.array([encodeBitPairs(bit) for bit in chan_input])\n",
    "\n",
    "    # repeat each signal for redundancy\n",
    "    def repeat(bits):\n",
    "        res = np.empty([repetitions, bits.shape[0]])\n",
    "        res[:] = bits\n",
    "        return res\n",
    "\n",
    "    chan_input = np.array([repeat(bits) for bits in chan_input])\n",
    "\n",
    "    # flatten result\n",
    "    chan_input = chan_input.flatten()\n",
    "    return chan_input"
   ]
  },
  {
   "cell_type": "code",
   "execution_count": 14,
   "metadata": {},
   "outputs": [],
   "source": [
    "def decodeChannelOutput(chan_output, repetitions):\n",
    "    \"\"\"\n",
    "    Decodes channel output.\n",
    "    The value of the erasure index is computed for each signal and the most occuring one is kept.\n",
    "    \"\"\"\n",
    "    # split output into repetition blocks\n",
    "    chan_output = np.split(chan_output, len(chan_output)/(repetitions * len(signal_set[0])))\n",
    "\n",
    "    # split repetition blocks into signals\n",
    "    def splitRepetitionBlocks(repetition_block):\n",
    "        return np.split(repetition_block, len(repetition_block)/len(signal_set[0]))\n",
    "\n",
    "    chan_output = np.array([splitRepetitionBlocks(repetition_block) for repetition_block in chan_output])\n",
    "\n",
    "    # decide on erasure index\n",
    "    def decide_on_erasure_index(bits):\n",
    "        return np.argmin(np.array([x**2 for x in bits]))\n",
    "    \n",
    "    def decide_on_erasure_index_block(repetition_block):\n",
    "        return np.array([decide_on_erasure_index(bits) for bits in repetition_block])\n",
    "\n",
    "    erasure_index_candidates = np.array([decide_on_erasure_index_block(repetition_block) for repetition_block in chan_output]).flatten()\n",
    "    erasure_index = np.bincount(erasure_index_candidates).argmax()\n",
    "    print(\"erasure_index found: \" + str(erasure_index))\n",
    "\n",
    "    # decide on index of codeword\n",
    "    def decoder_H0(input):\n",
    "        if (input[1] > 0 and input[2] > 0):\n",
    "            return 0\n",
    "        elif (input[1] > 0 and input[2] < 0):\n",
    "            return 2\n",
    "        elif (input[1] < 0 and input[2] < 0):\n",
    "            return 1\n",
    "        elif (input[1] < 0 and input[2] > 0):\n",
    "            return 3\n",
    "\n",
    "    def decoder_H1(input):\n",
    "        if (input[0] > 0 and input[2] > 0):\n",
    "            return 0\n",
    "        elif (input[0] > 0 and input[2] < 0):\n",
    "            return 1\n",
    "        elif (input[0] < 0 and input[2] < 0):\n",
    "            return 2\n",
    "        elif (input[0] < 0 and input[2] > 0):\n",
    "            return 3\n",
    "\n",
    "    def decoder_H2(input):\n",
    "        if (input[0] > 0 and input[1] > 0):\n",
    "            return 0\n",
    "        elif (input[0] > 0 and input[1] < 0):\n",
    "            return 1\n",
    "        elif (input[0] < 0 and input[1] < 0):\n",
    "            return 3\n",
    "        elif (input[0] < 0 and input[1] > 0):\n",
    "            return 2\n",
    "\n",
    "    def block_decoder(repetition_block):\n",
    "        res = np.array([])\n",
    "        if (erasure_index == 0):\n",
    "            res = np.array([decoder_H0(block) for block in repetition_block])\n",
    "        elif (erasure_index == 1):\n",
    "            res = np.array([decoder_H1(block) for block in repetition_block])\n",
    "        elif (erasure_index == 2):\n",
    "            res = np.array([decoder_H2(block) for block in repetition_block])\n",
    "        return np.bincount(res).argmax()\n",
    "\n",
    "    chan_output = np.array([block_decoder(repetition_block) for repetition_block in chan_output])\n",
    "\n",
    "    # reconstitute channel input\n",
    "    def retrieveInput(index):\n",
    "        return signal_set[index][:2]\n",
    "\n",
    "    chan_output = np.array([retrieveInput(i) for i in chan_output])\n",
    "    chan_output = chan_output.flatten()\n",
    "\n",
    "    return channelOutputToString(chan_output)"
   ]
  },
  {
   "cell_type": "code",
   "execution_count": 114,
   "metadata": {},
   "outputs": [
    {
     "output_type": "stream",
     "name": "stdout",
     "text": [
      "input: \t\t;@>gf{C;sA:crs}1CYDyfwHX<Kn]1)U:~1.6l]`MT:[P<JUCN^}c9Uo;:?9umV=bQQi_E^!8=`_pm,Xa\n",
      "input length: \t43200\n",
      "erase index is: 0\n",
      "erasure_index found: 0\n",
      "output: \t;@òçf{C\u001bqA:c°C3CYDùfwHX0In]ñ)U\u001a}1\u001e=l]PÎ:{P|ÊuCNZ}a\u0019Uo;6=\u0019w¡V¿bóYa_J~éð>`Wpo\u000fXa\n",
      "diff: \t\t43\n"
     ]
    }
   ],
   "source": [
    "signal_set = np.array([[1, 1, 1], [1, -1, -1], [-1, 1, -1], [-1, -1, 1]])\n",
    "n_repetitions = 15*3\n",
    "\n",
    "text_in = generateTestString(characters=80)\n",
    "print(\"input: \\t\\t\" + text_in)\n",
    "chan_input = encodeChannelInput(stringToChannelInput(text_in), n_repetitions)\n",
    "print(\"input length: \\t\" + str(len(chan_input)))\n",
    "chan_output = channel(chan_input)\n",
    "text_out = decodeChannelOutput(chan_output, n_repetitions)\n",
    "print(\"output: \\t\" + text_out)\n",
    "\n",
    "diff = sum(text_in[i] != text_out[i] for i in range(len(text_out)))\n",
    "print(\"diff: \\t\\t\" + str(diff))"
   ]
  },
  {
   "source": [
    "# find best number of repetitions"
   ],
   "cell_type": "markdown",
   "metadata": {}
  },
  {
   "cell_type": "code",
   "execution_count": 13,
   "metadata": {},
   "outputs": [],
   "source": [
    "signal_set = np.array([[1, 1, 1], [1, -1, -1], [-1, 1, -1], [-1, -1, 1]])\n",
    "\n",
    "def tryFor(repetitions_candidates, iterations):\n",
    "    n_tests = np.arange(iterations)\n",
    "    print(\"-----------------------------------------\")\n",
    "    for repetitions_candidate in repetitions_candidates:\n",
    "        errors = 0\n",
    "        for i in n_tests:\n",
    "            text_in = generateTestString(characters=80)\n",
    "            chan_input = encodeChannelInput(stringToChannelInput(text_in), repetitions_candidate)\n",
    "            chan_output = channel(chan_input)\n",
    "            text_out = decodeChannelOutput(chan_output, repetitions_candidate)\n",
    "            diff = sum(text_in[i] != text_out[i] for i in range(len(text_out)))\n",
    "            errors = errors + diff\n",
    "        if errors == 0:\n",
    "            print(\"No mistakes made with \" + str(repetitions_candidate) + \" repetitions!\")\n",
    "            break\n",
    "        average = errors / iterations\n",
    "        print(\"Average \" + str(average) + \"\\t mistakes with \\t\" + str(repetitions_candidate) + \" repetitions\" )\n",
    "    print(\"-----------------------------------------\")"
   ]
  },
  {
   "cell_type": "code",
   "execution_count": 14,
   "metadata": {},
   "outputs": [
    {
     "output_type": "stream",
     "name": "stdout",
     "text": [
      "-----------------------------------------\n",
      "Average 12.92\t mistakes with \t100 repetitions\n",
      "-----------------------------------------\n",
      "Average 1.58\t mistakes with \t200 repetitions\n",
      "-----------------------------------------\n",
      "Average 0.3\t mistakes with \t300 repetitions\n",
      "-----------------------------------------\n",
      "Average 0.03\t mistakes with \t400 repetitions\n",
      "-----------------------------------------\n",
      "No mistakes made with 500 repetitions!\n"
     ]
    }
   ],
   "source": [
    "tryFor(np.arange(100, 1000, 100), 100)"
   ]
  },
  {
   "cell_type": "code",
   "execution_count": 15,
   "metadata": {},
   "outputs": [
    {
     "output_type": "stream",
     "name": "stdout",
     "text": [
      "-----------------------------------------\n",
      "Average 0.02\t mistakes with \t400 repetitions\n",
      "-----------------------------------------\n",
      "Average 0.01\t mistakes with \t410 repetitions\n",
      "-----------------------------------------\n",
      "No mistakes made with 420 repetitions!\n"
     ]
    }
   ],
   "source": [
    "tryFor(np.arange(400, 500, 10), 100)"
   ]
  }
 ]
}
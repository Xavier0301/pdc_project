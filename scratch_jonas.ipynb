{
 "metadata": {
  "language_info": {
   "codemirror_mode": {
    "name": "ipython",
    "version": 3
   },
   "file_extension": ".py",
   "mimetype": "text/x-python",
   "name": "python",
   "nbconvert_exporter": "python",
   "pygments_lexer": "ipython3",
   "version": "3.8.10"
  },
  "orig_nbformat": 2,
  "kernelspec": {
   "name": "python3810jvsc74a57bd0b36a853a45ce0ecbdbfbd146ac3ad7c62a3862e4bde80686cfd99eeb49eb0651",
   "display_name": "Python 3.8.10 64-bit (conda)"
  }
 },
 "nbformat": 4,
 "nbformat_minor": 2,
 "cells": [
  {
   "source": [
    "# Helper functions"
   ],
   "cell_type": "markdown",
   "metadata": {}
  },
  {
   "cell_type": "code",
   "execution_count": 1,
   "metadata": {},
   "outputs": [],
   "source": [
    "import numpy as np"
   ]
  },
  {
   "cell_type": "code",
   "execution_count": 2,
   "metadata": {},
   "outputs": [],
   "source": [
    "# From Xavier\n",
    "def strToBits(string):\n",
    "    res = []\n",
    "    byte_string = string.encode('utf-8')\n",
    "    for b in byte_string:\n",
    "        bit_array = bin(b)[2:]\n",
    "        bit_array = '00000000'[len(bit_array):] + bit_array\n",
    "        res.extend(bit_array)\n",
    "    return res\n",
    "\n",
    "def stringToChannelInput(string):\n",
    "    bits = np.array(strToBits(string), dtype='int64')\n",
    "    return 2*bits - 1\n",
    "\n",
    "def channelOutputToString(channelOutput):\n",
    "    bits = ((channelOutput+1)/2).astype('int64').tolist()\n",
    "    byte_string = \"\"\n",
    "    for char_index in range(len(bits)//8):\n",
    "        bit_list = bits[char_index*8:(char_index+1)*8]\n",
    "        byte = chr(int(''.join([str(bit) for bit in bit_list]), 2))\n",
    "        byte_string += byte\n",
    "    return byte_string"
   ]
  },
  {
   "cell_type": "code",
   "execution_count": 3,
   "metadata": {},
   "outputs": [],
   "source": [
    "# From handout\n",
    "def channel(chanInput):\n",
    "    chanInput = np.clip(chanInput,-1,1)\n",
    "    erasedIndex = np.random.randint(3) \n",
    "    chanInput[erasedIndex:len(chanInput):3] = 0\n",
    "    return chanInput + np.sqrt(10)*np.random.randn(len(chanInput))"
   ]
  },
  {
   "cell_type": "code",
   "execution_count": 4,
   "metadata": {},
   "outputs": [],
   "source": [
    "def channelWoNoise(chanInput, erasedIndex=None):\n",
    "    \"\"\"\n",
    "    Emulates communication channel without noise.\n",
    "    erasedIndex can be used to specify H\n",
    "    \"\"\"\n",
    "    chanInput = np.clip(chanInput,-1,1)\n",
    "    erasedIndex = erasedIndex\n",
    "    if (erasedIndex == None):\n",
    "        erasedIndex = np.random.randint(3)\n",
    "    chanInput[erasedIndex:len(chanInput):3] = 0\n",
    "    return chanInput"
   ]
  },
  {
   "cell_type": "code",
   "execution_count": 5,
   "metadata": {},
   "outputs": [],
   "source": [
    "import string\n",
    "import random\n",
    "import io"
   ]
  },
  {
   "cell_type": "code",
   "execution_count": 6,
   "metadata": {},
   "outputs": [],
   "source": [
    "def generateTestFile(characters=80, filename=\"scratch\"):\n",
    "    \"\"\"\n",
    "    Function to generate a file containing an utf-8 encoded string.\n",
    "    Returns the generated text.\n",
    "    \"\"\"\n",
    "    text = ''.join(random.choices(string.ascii_letters + string.digits + string.punctuation, k=characters))\n",
    "    with io.open(filename+\".txt\", \"w\", encoding='utf8') as f:\n",
    "        f.write(text)\n",
    "    return text"
   ]
  },
  {
   "cell_type": "code",
   "execution_count": 7,
   "metadata": {},
   "outputs": [],
   "source": [
    "def readTestFile(filename=\"scratch\"):\n",
    "    \"\"\"\n",
    "    Function to read a text file as channel input.\n",
    "    Returns the file text in the channel input format.\n",
    "    \"\"\"\n",
    "    text = ''\n",
    "    with io.open(filename+\".txt\", encoding='utf8') as f:\n",
    "        text = f.read()\n",
    "    return stringToChannelInput(text)"
   ]
  },
  {
   "cell_type": "code",
   "execution_count": 191,
   "metadata": {},
   "outputs": [],
   "source": [
    "signal_set = np.array([[1, 1, 1], [1, -1, -1], [-1, 1, -1], [-1, -1, 1]])\n",
    "repetitions = 10\n",
    "\n",
    "def encodeChannelInput(chan_input):\n",
    "    \"\"\"\n",
    "    Makes channel input ready for transmission\n",
    "    \"\"\"\n",
    "    # map each input pair to the signal whose two first elements are said pair\n",
    "    def mapBitToSignals(bits):\n",
    "        if (np.array_equal(bits, [1, 1])):\n",
    "            return signal_set[0]\n",
    "        elif (np.array_equal(bits, [1, -1])):\n",
    "            return signal_set[1]\n",
    "        elif (np.array_equal(bits, [-1, 1])):\n",
    "            return signal_set[2]\n",
    "        elif (np.array_equal(bits, [-1, -1])):\n",
    "            return signal_set[3]\n",
    "\n",
    "    chan_input = np.split(chan_input, len(chan_input)/2)\n",
    "    chan_input = np.array([mapBitToSignals(bit) for bit in chan_input])\n",
    "\n",
    "    # repeat each signal for redundancy\n",
    "    def repeat(bits):\n",
    "        res = np.empty([repetitions, bits.shape[0]])\n",
    "        res[:] = bits\n",
    "        return res\n",
    "\n",
    "    chan_input = np.array([repeat(bits) for bits in chan_input])\n",
    "\n",
    "    # flatten result\n",
    "    chan_input = chan_input.flatten()\n",
    "    return chan_input"
   ]
  },
  {
   "cell_type": "code",
   "execution_count": 217,
   "metadata": {},
   "outputs": [],
   "source": [
    "def decodeChannelOutputWoNoise(chan_output, erasedIndex=None):\n",
    "    \"\"\"\n",
    "    Decodes channel output where H is known\n",
    "    \"\"\"\n",
    "    # split output into repetition blocks\n",
    "    chan_output = np.split(chan_output, len(chan_output)/(repetitions * len(signal_set[0])))\n",
    "\n",
    "    # split repetition blocks into signals\n",
    "    def splitRepetitionBlocks(repetition_block):\n",
    "        return np.split(repetition_block, len(repetition_block)/len(signal_set[0]))\n",
    "\n",
    "    chan_output = np.array([splitRepetitionBlocks(repetition_block) for repetition_block in chan_output])\n",
    "\n",
    "    # decide on H -> when to compute? for each block? once?\n",
    "    def decide_on_H(bits):\n",
    "        return np.argmin(np.array([x**2 for x in bits]))\n",
    "    \n",
    "    def decide_on_H_block(repetition_block):\n",
    "        return np.array([decide_on_H(bits) for bits in repetition_block])\n",
    "\n",
    "    H = np.array([decide_on_H_block(repetition_block) for repetition_block in chan_output])\n",
    "    H = H.flatten()\n",
    "    erasedIndex = np.bincount(H).argmax()\n",
    "\n",
    "    # decide on index of codeword\n",
    "    def decoder_H0(input):\n",
    "        if (input[1] > 0 and input[2] > 0):\n",
    "            return 0\n",
    "        elif (input[1] > 0 and input[2] < 0):\n",
    "            return 2\n",
    "        elif (input[1] < 0 and input[2] < 0):\n",
    "            return 1\n",
    "        elif (input[1] < 0 and input[2] > 0):\n",
    "            return 3\n",
    "\n",
    "    def decoder_H1(input):\n",
    "        if (input[0] > 0 and input[2] > 0):\n",
    "            return 0\n",
    "        elif (input[0] > 0 and input[2] < 0):\n",
    "            return 1\n",
    "        elif (input[0] < 0 and input[2] < 0):\n",
    "            return 2\n",
    "        elif (input[0] < 0 and input[2] > 0):\n",
    "            return 3\n",
    "\n",
    "    def decoder_H2(input):\n",
    "        if (input[0] > 0 and input[1] > 0):\n",
    "            return 0\n",
    "        elif (input[0] > 0 and input[1] < 0):\n",
    "            return 1\n",
    "        elif (input[0] < 0 and input[1] < 0):\n",
    "            return 3\n",
    "        elif (input[0] < 0 and input[1] > 0):\n",
    "            return 2\n",
    "\n",
    "    def block_decoder(repetition_block):\n",
    "        res = np.array([])\n",
    "        if (erasedIndex == 0):\n",
    "            res = np.array([decoder_H0(block) for block in repetition_block])\n",
    "        elif (erasedIndex == 1):\n",
    "            res = np.array([decoder_H1(block) for block in repetition_block])\n",
    "        elif (erasedIndex == 2):\n",
    "            res = np.array([decoder_H2(block) for block in repetition_block])\n",
    "\n",
    "    chan_output = np.array([block_decoder(repetition_block) for repetition_block in chan_output])\n",
    "\n",
    "    # reconstitute channel input\n",
    "    def retrieveInput(index):\n",
    "        return signal_set[index][:2]\n",
    "\n",
    "    chan_output = np.array([retrieveInput(i) for i in chan_output])\n",
    "    chan_output = res.flatten()\n",
    "\n",
    "    return channelOutputToString(chan_output)"
   ]
  },
  {
   "cell_type": "code",
   "execution_count": 218,
   "metadata": {},
   "outputs": [
    {
     "output_type": "stream",
     "name": "stdout",
     "text": [
      "input:\ts\n[-1.  1. -1. -1.  1. -1. -1.  1. -1. -1.  1. -1. -1.  1. -1. -1.  1. -1.\n -1.  1. -1. -1.  1. -1. -1.  1. -1. -1.  1. -1.  1.  1.  1.  1.  1.  1.\n  1.  1.  1.  1.  1.  1.  1.  1.  1.  1.  1.  1.  1.  1.  1.  1.  1.  1.\n  1.  1.  1.  1.  1.  1. -1. -1.  1. -1. -1.  1. -1. -1.  1. -1. -1.  1.\n -1. -1.  1. -1. -1.  1. -1. -1.  1. -1. -1.  1. -1. -1.  1. -1. -1.  1.\n  1.  1.  1.  1.  1.  1.  1.  1.  1.  1.  1.  1.  1.  1.  1.  1.  1.  1.\n  1.  1.  1.  1.  1.  1.  1.  1.  1.  1.  1.  1.]\n[array([-0.07414125,  1.20634016,  1.24513254, -3.58954189,  5.86552231,\n        2.84346723, -2.10940279,  0.63613656, -0.92713674, -1.31296391,\n       -0.0411952 ,  1.44902178, -0.7702476 , -5.59898833, -5.25604827,\n       -2.30747106,  1.43208012,  1.3044543 , -0.42200244, -0.13527636,\n        0.75808815,  3.68326767,  2.91611946, -2.99746815,  1.30281996,\n       -0.96316752,  3.94361483, -1.42707997,  1.26232389,  0.59764178]), array([ 0.62706116,  3.41831765,  1.59763598, -0.9645322 ,  7.73756588,\n       -2.36891413, -0.43364709, -2.39581503, -5.61802661, -2.01854943,\n       -6.00129686,  3.56186499,  1.17029545,  3.66177022,  7.08909793,\n       -1.04734499, -2.27390485, -5.86486102, -2.52518407,  1.14033688,\n        0.44991741, -3.22317688,  5.31680258,  1.49336694, -1.97307193,\n        1.45049215, -0.36500554, -0.57755105,  6.26136723, -5.07820206]), array([-4.99195276, -4.04621345,  5.38316804, -2.68873269, -2.8878437 ,\n        1.08728784,  2.03729894,  2.24389234,  1.89318456,  6.65975896,\n       -1.12698344,  6.35077361,  0.67338245,  0.58294426,  4.9201357 ,\n        0.00826841,  1.95535188,  3.53254725,  1.72582775, -1.01442879,\n        7.03331912, -0.05790237, -6.03216141,  4.6635541 ,  1.49936608,\n       -1.37139044,  3.9586042 ,  4.37965519,  1.88352346, -0.89709315]), array([ 1.29917428,  0.80423579, -1.89518156,  1.85082123,  1.39720777,\n        3.8119133 ,  5.5371156 ,  4.56725001, -0.36157926,  3.58176265,\n       -2.56325699, -5.57522597, -3.33276575, -2.90615696, -1.74109736,\n        3.44805777, -2.75521506,  3.88039512,  1.85016151,  0.72480053,\n        4.91734643,  0.19624207,  1.89525518, -3.66329966, -1.31249039,\n        1.4240413 , -2.76949326,  0.30565393,  3.24822323, -4.8306614 ])]\n[[[-0.07414125  1.20634016  1.24513254]\n  [-3.58954189  5.86552231  2.84346723]\n  [-2.10940279  0.63613656 -0.92713674]\n  [-1.31296391 -0.0411952   1.44902178]\n  [-0.7702476  -5.59898833 -5.25604827]\n  [-2.30747106  1.43208012  1.3044543 ]\n  [-0.42200244 -0.13527636  0.75808815]\n  [ 3.68326767  2.91611946 -2.99746815]\n  [ 1.30281996 -0.96316752  3.94361483]\n  [-1.42707997  1.26232389  0.59764178]]\n\n [[ 0.62706116  3.41831765  1.59763598]\n  [-0.9645322   7.73756588 -2.36891413]\n  [-0.43364709 -2.39581503 -5.61802661]\n  [-2.01854943 -6.00129686  3.56186499]\n  [ 1.17029545  3.66177022  7.08909793]\n  [-1.04734499 -2.27390485 -5.86486102]\n  [-2.52518407  1.14033688  0.44991741]\n  [-3.22317688  5.31680258  1.49336694]\n  [-1.97307193  1.45049215 -0.36500554]\n  [-0.57755105  6.26136723 -5.07820206]]\n\n [[-4.99195276 -4.04621345  5.38316804]\n  [-2.68873269 -2.8878437   1.08728784]\n  [ 2.03729894  2.24389234  1.89318456]\n  [ 6.65975896 -1.12698344  6.35077361]\n  [ 0.67338245  0.58294426  4.9201357 ]\n  [ 0.00826841  1.95535188  3.53254725]\n  [ 1.72582775 -1.01442879  7.03331912]\n  [-0.05790237 -6.03216141  4.6635541 ]\n  [ 1.49936608 -1.37139044  3.9586042 ]\n  [ 4.37965519  1.88352346 -0.89709315]]\n\n [[ 1.29917428  0.80423579 -1.89518156]\n  [ 1.85082123  1.39720777  3.8119133 ]\n  [ 5.5371156   4.56725001 -0.36157926]\n  [ 3.58176265 -2.56325699 -5.57522597]\n  [-3.33276575 -2.90615696 -1.74109736]\n  [ 3.44805777 -2.75521506  3.88039512]\n  [ 1.85016151  0.72480053  4.91734643]\n  [ 0.19624207  1.89525518 -3.66329966]\n  [-1.31249039  1.4240413  -2.76949326]\n  [ 0.30565393  3.24822323 -4.8306614 ]]]\n[0 2 1 1 0 2 1 1 1 2 0 0 0 0 0 0 2 2 2 0 1 2 2 1 1 0 1 0 1 2 1 1 2 1 2 1 1\n 0 0 0]\n1\n"
     ]
    },
    {
     "output_type": "error",
     "ename": "ValueError",
     "evalue": "The truth value of an array with more than one element is ambiguous. Use a.any() or a.all()",
     "traceback": [
      "\u001b[1;31m---------------------------------------------------------------------------\u001b[0m",
      "\u001b[1;31mValueError\u001b[0m                                Traceback (most recent call last)",
      "\u001b[1;32m<ipython-input-218-8541ad6efb0b>\u001b[0m in \u001b[0;36m<module>\u001b[1;34m\u001b[0m\n\u001b[0;32m      4\u001b[0m \u001b[0mprint\u001b[0m\u001b[1;33m(\u001b[0m\u001b[0mchan_input\u001b[0m\u001b[1;33m)\u001b[0m\u001b[1;33m\u001b[0m\u001b[1;33m\u001b[0m\u001b[0m\n\u001b[0;32m      5\u001b[0m \u001b[0mchan_output\u001b[0m \u001b[1;33m=\u001b[0m \u001b[0mchannel\u001b[0m\u001b[1;33m(\u001b[0m\u001b[0mchan_input\u001b[0m\u001b[1;33m)\u001b[0m\u001b[1;33m\u001b[0m\u001b[1;33m\u001b[0m\u001b[0m\n\u001b[1;32m----> 6\u001b[1;33m \u001b[0mtext_out\u001b[0m \u001b[1;33m=\u001b[0m \u001b[0mdecodeChannelOutputWoNoise\u001b[0m\u001b[1;33m(\u001b[0m\u001b[0mchan_output\u001b[0m\u001b[1;33m)\u001b[0m\u001b[1;33m\u001b[0m\u001b[1;33m\u001b[0m\u001b[0m\n\u001b[0m\u001b[0;32m      7\u001b[0m \u001b[0mprint\u001b[0m\u001b[1;33m(\u001b[0m\u001b[1;34m\"output:\\t\"\u001b[0m \u001b[1;33m+\u001b[0m \u001b[0mtext_out\u001b[0m\u001b[1;33m)\u001b[0m\u001b[1;33m\u001b[0m\u001b[1;33m\u001b[0m\u001b[0m\n\u001b[0;32m      8\u001b[0m \u001b[0mdiff\u001b[0m \u001b[1;33m=\u001b[0m \u001b[0msum\u001b[0m\u001b[1;33m(\u001b[0m\u001b[0mtext_in\u001b[0m\u001b[1;33m[\u001b[0m\u001b[0mi\u001b[0m\u001b[1;33m]\u001b[0m \u001b[1;33m!=\u001b[0m \u001b[0mtext_out\u001b[0m\u001b[1;33m[\u001b[0m\u001b[0mi\u001b[0m\u001b[1;33m]\u001b[0m \u001b[1;32mfor\u001b[0m \u001b[0mi\u001b[0m \u001b[1;32min\u001b[0m \u001b[0mrange\u001b[0m\u001b[1;33m(\u001b[0m\u001b[0mlen\u001b[0m\u001b[1;33m(\u001b[0m\u001b[0mtext_out\u001b[0m\u001b[1;33m)\u001b[0m\u001b[1;33m)\u001b[0m\u001b[1;33m)\u001b[0m\u001b[1;33m\u001b[0m\u001b[1;33m\u001b[0m\u001b[0m\n",
      "\u001b[1;32m<ipython-input-217-27d4f2f18f6b>\u001b[0m in \u001b[0;36mdecodeChannelOutputWoNoise\u001b[1;34m(chan_output, erasedIndex)\u001b[0m\n\u001b[0;32m     65\u001b[0m         \u001b[0mres\u001b[0m \u001b[1;33m=\u001b[0m \u001b[0mnp\u001b[0m\u001b[1;33m.\u001b[0m\u001b[0marray\u001b[0m\u001b[1;33m(\u001b[0m\u001b[1;33m[\u001b[0m\u001b[0mdecoder_H0\u001b[0m\u001b[1;33m(\u001b[0m\u001b[0my\u001b[0m\u001b[1;33m)\u001b[0m \u001b[1;32mfor\u001b[0m \u001b[0my\u001b[0m \u001b[1;32min\u001b[0m \u001b[0mchan_output\u001b[0m\u001b[1;33m]\u001b[0m\u001b[1;33m)\u001b[0m\u001b[1;33m\u001b[0m\u001b[1;33m\u001b[0m\u001b[0m\n\u001b[0;32m     66\u001b[0m     \u001b[1;32melif\u001b[0m \u001b[1;33m(\u001b[0m\u001b[0merasedIndex\u001b[0m \u001b[1;33m==\u001b[0m \u001b[1;36m1\u001b[0m\u001b[1;33m)\u001b[0m\u001b[1;33m:\u001b[0m\u001b[1;33m\u001b[0m\u001b[1;33m\u001b[0m\u001b[0m\n\u001b[1;32m---> 67\u001b[1;33m         \u001b[0mres\u001b[0m \u001b[1;33m=\u001b[0m \u001b[0mnp\u001b[0m\u001b[1;33m.\u001b[0m\u001b[0marray\u001b[0m\u001b[1;33m(\u001b[0m\u001b[1;33m[\u001b[0m\u001b[0mdecoder_H1\u001b[0m\u001b[1;33m(\u001b[0m\u001b[0my\u001b[0m\u001b[1;33m)\u001b[0m \u001b[1;32mfor\u001b[0m \u001b[0my\u001b[0m \u001b[1;32min\u001b[0m \u001b[0mchan_output\u001b[0m\u001b[1;33m]\u001b[0m\u001b[1;33m)\u001b[0m\u001b[1;33m\u001b[0m\u001b[1;33m\u001b[0m\u001b[0m\n\u001b[0m\u001b[0;32m     68\u001b[0m     \u001b[1;32melif\u001b[0m \u001b[1;33m(\u001b[0m\u001b[0merasedIndex\u001b[0m \u001b[1;33m==\u001b[0m \u001b[1;36m2\u001b[0m\u001b[1;33m)\u001b[0m\u001b[1;33m:\u001b[0m\u001b[1;33m\u001b[0m\u001b[1;33m\u001b[0m\u001b[0m\n\u001b[0;32m     69\u001b[0m         \u001b[0mres\u001b[0m \u001b[1;33m=\u001b[0m \u001b[0mnp\u001b[0m\u001b[1;33m.\u001b[0m\u001b[0marray\u001b[0m\u001b[1;33m(\u001b[0m\u001b[1;33m[\u001b[0m\u001b[0mdecoder_H2\u001b[0m\u001b[1;33m(\u001b[0m\u001b[0my\u001b[0m\u001b[1;33m)\u001b[0m \u001b[1;32mfor\u001b[0m \u001b[0my\u001b[0m \u001b[1;32min\u001b[0m \u001b[0mchan_output\u001b[0m\u001b[1;33m]\u001b[0m\u001b[1;33m)\u001b[0m\u001b[1;33m\u001b[0m\u001b[1;33m\u001b[0m\u001b[0m\n",
      "\u001b[1;32m<ipython-input-217-27d4f2f18f6b>\u001b[0m in \u001b[0;36m<listcomp>\u001b[1;34m(.0)\u001b[0m\n\u001b[0;32m     65\u001b[0m         \u001b[0mres\u001b[0m \u001b[1;33m=\u001b[0m \u001b[0mnp\u001b[0m\u001b[1;33m.\u001b[0m\u001b[0marray\u001b[0m\u001b[1;33m(\u001b[0m\u001b[1;33m[\u001b[0m\u001b[0mdecoder_H0\u001b[0m\u001b[1;33m(\u001b[0m\u001b[0my\u001b[0m\u001b[1;33m)\u001b[0m \u001b[1;32mfor\u001b[0m \u001b[0my\u001b[0m \u001b[1;32min\u001b[0m \u001b[0mchan_output\u001b[0m\u001b[1;33m]\u001b[0m\u001b[1;33m)\u001b[0m\u001b[1;33m\u001b[0m\u001b[1;33m\u001b[0m\u001b[0m\n\u001b[0;32m     66\u001b[0m     \u001b[1;32melif\u001b[0m \u001b[1;33m(\u001b[0m\u001b[0merasedIndex\u001b[0m \u001b[1;33m==\u001b[0m \u001b[1;36m1\u001b[0m\u001b[1;33m)\u001b[0m\u001b[1;33m:\u001b[0m\u001b[1;33m\u001b[0m\u001b[1;33m\u001b[0m\u001b[0m\n\u001b[1;32m---> 67\u001b[1;33m         \u001b[0mres\u001b[0m \u001b[1;33m=\u001b[0m \u001b[0mnp\u001b[0m\u001b[1;33m.\u001b[0m\u001b[0marray\u001b[0m\u001b[1;33m(\u001b[0m\u001b[1;33m[\u001b[0m\u001b[0mdecoder_H1\u001b[0m\u001b[1;33m(\u001b[0m\u001b[0my\u001b[0m\u001b[1;33m)\u001b[0m \u001b[1;32mfor\u001b[0m \u001b[0my\u001b[0m \u001b[1;32min\u001b[0m \u001b[0mchan_output\u001b[0m\u001b[1;33m]\u001b[0m\u001b[1;33m)\u001b[0m\u001b[1;33m\u001b[0m\u001b[1;33m\u001b[0m\u001b[0m\n\u001b[0m\u001b[0;32m     68\u001b[0m     \u001b[1;32melif\u001b[0m \u001b[1;33m(\u001b[0m\u001b[0merasedIndex\u001b[0m \u001b[1;33m==\u001b[0m \u001b[1;36m2\u001b[0m\u001b[1;33m)\u001b[0m\u001b[1;33m:\u001b[0m\u001b[1;33m\u001b[0m\u001b[1;33m\u001b[0m\u001b[0m\n\u001b[0;32m     69\u001b[0m         \u001b[0mres\u001b[0m \u001b[1;33m=\u001b[0m \u001b[0mnp\u001b[0m\u001b[1;33m.\u001b[0m\u001b[0marray\u001b[0m\u001b[1;33m(\u001b[0m\u001b[1;33m[\u001b[0m\u001b[0mdecoder_H2\u001b[0m\u001b[1;33m(\u001b[0m\u001b[0my\u001b[0m\u001b[1;33m)\u001b[0m \u001b[1;32mfor\u001b[0m \u001b[0my\u001b[0m \u001b[1;32min\u001b[0m \u001b[0mchan_output\u001b[0m\u001b[1;33m]\u001b[0m\u001b[1;33m)\u001b[0m\u001b[1;33m\u001b[0m\u001b[1;33m\u001b[0m\u001b[0m\n",
      "\u001b[1;32m<ipython-input-217-27d4f2f18f6b>\u001b[0m in \u001b[0;36mdecoder_H1\u001b[1;34m(input)\u001b[0m\n\u001b[0;32m     42\u001b[0m \u001b[1;33m\u001b[0m\u001b[0m\n\u001b[0;32m     43\u001b[0m     \u001b[1;32mdef\u001b[0m \u001b[0mdecoder_H1\u001b[0m\u001b[1;33m(\u001b[0m\u001b[0minput\u001b[0m\u001b[1;33m)\u001b[0m\u001b[1;33m:\u001b[0m\u001b[1;33m\u001b[0m\u001b[1;33m\u001b[0m\u001b[0m\n\u001b[1;32m---> 44\u001b[1;33m         \u001b[1;32mif\u001b[0m \u001b[1;33m(\u001b[0m\u001b[0minput\u001b[0m\u001b[1;33m[\u001b[0m\u001b[1;36m0\u001b[0m\u001b[1;33m]\u001b[0m \u001b[1;33m>\u001b[0m \u001b[1;36m0\u001b[0m \u001b[1;32mand\u001b[0m \u001b[0minput\u001b[0m\u001b[1;33m[\u001b[0m\u001b[1;36m2\u001b[0m\u001b[1;33m]\u001b[0m \u001b[1;33m>\u001b[0m \u001b[1;36m0\u001b[0m\u001b[1;33m)\u001b[0m\u001b[1;33m:\u001b[0m\u001b[1;33m\u001b[0m\u001b[1;33m\u001b[0m\u001b[0m\n\u001b[0m\u001b[0;32m     45\u001b[0m             \u001b[1;32mreturn\u001b[0m \u001b[1;36m0\u001b[0m\u001b[1;33m\u001b[0m\u001b[1;33m\u001b[0m\u001b[0m\n\u001b[0;32m     46\u001b[0m         \u001b[1;32melif\u001b[0m \u001b[1;33m(\u001b[0m\u001b[0minput\u001b[0m\u001b[1;33m[\u001b[0m\u001b[1;36m0\u001b[0m\u001b[1;33m]\u001b[0m \u001b[1;33m>\u001b[0m \u001b[1;36m0\u001b[0m \u001b[1;32mand\u001b[0m \u001b[0minput\u001b[0m\u001b[1;33m[\u001b[0m\u001b[1;36m2\u001b[0m\u001b[1;33m]\u001b[0m \u001b[1;33m<\u001b[0m \u001b[1;36m0\u001b[0m\u001b[1;33m)\u001b[0m\u001b[1;33m:\u001b[0m\u001b[1;33m\u001b[0m\u001b[1;33m\u001b[0m\u001b[0m\n",
      "\u001b[1;31mValueError\u001b[0m: The truth value of an array with more than one element is ambiguous. Use a.any() or a.all()"
     ]
    }
   ],
   "source": [
    "text_in = generateTestFile(characters=1)\n",
    "print(\"input:\\t\" + text_in)\n",
    "chan_input = encodeChannelInput(readTestFile())\n",
    "print(chan_input)\n",
    "chan_output = channel(chan_input)\n",
    "text_out = decodeChannelOutputWoNoise(chan_output)\n",
    "print(\"output:\\t\" + text_out)\n",
    "diff = sum(text_in[i] != text_out[i] for i in range(len(text_out)))\n",
    "print(\"diff:\\t\" + str(diff))"
   ]
  },
  {
   "cell_type": "code",
   "execution_count": null,
   "metadata": {},
   "outputs": [],
   "source": []
  }
 ]
}
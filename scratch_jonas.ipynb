{
 "metadata": {
  "language_info": {
   "codemirror_mode": {
    "name": "ipython",
    "version": 3
   },
   "file_extension": ".py",
   "mimetype": "text/x-python",
   "name": "python",
   "nbconvert_exporter": "python",
   "pygments_lexer": "ipython3",
   "version": "3.8.10"
  },
  "orig_nbformat": 2,
  "kernelspec": {
   "name": "python3810jvsc74a57bd0b36a853a45ce0ecbdbfbd146ac3ad7c62a3862e4bde80686cfd99eeb49eb0651",
   "display_name": "Python 3.8.10 64-bit (conda)"
  }
 },
 "nbformat": 4,
 "nbformat_minor": 2,
 "cells": [
  {
   "source": [
    "# Helper functions"
   ],
   "cell_type": "markdown",
   "metadata": {}
  },
  {
   "cell_type": "code",
   "execution_count": 1,
   "metadata": {},
   "outputs": [],
   "source": [
    "import numpy as np"
   ]
  },
  {
   "cell_type": "code",
   "execution_count": 2,
   "metadata": {},
   "outputs": [],
   "source": [
    "# From Xavier\n",
    "def strToBits(string):\n",
    "    res = []\n",
    "    byte_string = string.encode('utf-8')\n",
    "    for b in byte_string:\n",
    "        bit_array = bin(b)[2:]\n",
    "        bit_array = '00000000'[len(bit_array):] + bit_array\n",
    "        res.extend(bit_array)\n",
    "    return res\n",
    "\n",
    "def stringToChannelInput(string):\n",
    "    bits = np.array(strToBits(string), dtype='int64')\n",
    "    return 2*bits - 1\n",
    "\n",
    "def channelOutputToString(channelOutput):\n",
    "    bits = ((channelOutput+1)/2).astype('int64').tolist()\n",
    "    byte_string = \"\"\n",
    "    for char_index in range(len(bits)//8):\n",
    "        bit_list = bits[char_index*8:(char_index+1)*8]\n",
    "        byte = chr(int(''.join([str(bit) for bit in bit_list]), 2))\n",
    "        byte_string += byte\n",
    "    return byte_string"
   ]
  },
  {
   "cell_type": "code",
   "execution_count": 3,
   "metadata": {},
   "outputs": [],
   "source": [
    "# From handout\n",
    "def channel(chanInput):\n",
    "    chanInput = np.clip(chanInput,-1,1)\n",
    "    erasedIndex = np.random.randint(3) \n",
    "    chanInput[erasedIndex:len(chanInput):3] = 0\n",
    "    return chanInput + np.sqrt(10)*np.random.randn(len(chanInput))"
   ]
  },
  {
   "cell_type": "code",
   "execution_count": 4,
   "metadata": {},
   "outputs": [],
   "source": [
    "def channelWoNoise(chanInput, erasedIndex=None):\n",
    "    \"\"\"\n",
    "    Emulates communication channel without noise.\n",
    "    erasedIndex can be used to specify H\n",
    "    \"\"\"\n",
    "    chanInput = np.clip(chanInput,-1,1)\n",
    "    erasedIndex = erasedIndex\n",
    "    if (erasedIndex == None):\n",
    "        erasedIndex = np.random.randint(3)\n",
    "    chanInput[erasedIndex:len(chanInput):3] = 0\n",
    "    return chanInput"
   ]
  },
  {
   "cell_type": "code",
   "execution_count": 5,
   "metadata": {},
   "outputs": [],
   "source": [
    "import string\n",
    "import random\n",
    "import io"
   ]
  },
  {
   "cell_type": "code",
   "execution_count": 6,
   "metadata": {},
   "outputs": [],
   "source": [
    "def generateTestFile(characters=80, filename=\"scratch\"):\n",
    "    \"\"\"\n",
    "    Function to generate a file containing an utf-8 encoded string.\n",
    "    Returns the generated text.\n",
    "    \"\"\"\n",
    "    text = ''.join(random.choices(string.ascii_letters + string.digits + string.punctuation, k=characters))\n",
    "    with io.open(filename+\".txt\", \"w\", encoding='utf8') as f:\n",
    "        f.write(text)\n",
    "    return text"
   ]
  },
  {
   "cell_type": "code",
   "execution_count": 7,
   "metadata": {},
   "outputs": [],
   "source": [
    "def readTestFile(filename=\"scratch\"):\n",
    "    \"\"\"\n",
    "    Function to read a text file as channel input.\n",
    "    Returns the file text in the channel input format.\n",
    "    \"\"\"\n",
    "    text = ''\n",
    "    with io.open(filename+\".txt\", encoding='utf8') as f:\n",
    "        text = f.read()\n",
    "    return stringToChannelInput(text)"
   ]
  },
  {
   "cell_type": "code",
   "execution_count": 30,
   "metadata": {},
   "outputs": [],
   "source": [
    "signal_set = np.array([[1, 1, 1], [1, -1, -1], [-1, 1, -1], [-1, -1, 1]])\n",
    "\n",
    "def encodeChannelInput(chan_input):\n",
    "    \"\"\"\n",
    "    Makes channel input ready for transmission\n",
    "    \"\"\"\n",
    "    # map each bit to two signals appended: 1 is signals 0 and 2, -1 is signals 1 and 3 ()\n",
    "    def mapBitToSignals(bits):\n",
    "        if (np.array_equal(bits, [1, 1])):\n",
    "            return signal_set[0]\n",
    "        elif (np.array_equal(bits, [1, -1])):\n",
    "            return signal_set[1]\n",
    "        elif (np.array_equal(bits, [-1, 1])):\n",
    "            return signal_set[2]\n",
    "        elif (np.array_equal(bits, [-1, -1])):\n",
    "            return signal_set[3]\n",
    "\n",
    "    chan_input = np.split(chan_input, len(chan_input)/2)\n",
    "    chan_input = np.array([mapBitToSignals(bit) for bit in chan_input])\n",
    "\n",
    "    # flatten result\n",
    "    chan_input = chan_input.flatten()\n",
    "    return chan_input"
   ]
  },
  {
   "cell_type": "code",
   "execution_count": 176,
   "metadata": {},
   "outputs": [],
   "source": [
    "def decodeChannelOutputWoNoise(chan_output, erasedIndex=None):\n",
    "    \"\"\"\n",
    "    Decodes channel output where H is known\n",
    "    \"\"\"\n",
    "    # split output\n",
    "    chan_output = np.split(chan_output, len(chan_output)/len(signal_set[0]))\n",
    "\n",
    "    # decide on H -> when to compute? for each block? once?\n",
    "    def decide_on_H(bits):\n",
    "        return np.argmin(np.array([x**2 for x in bits]))\n",
    "\n",
    "    H = np.array([decide_on_H(bits) for bits in chan_output]) \n",
    "    erasedIndex = np.bincount(H).argmax()\n",
    "\n",
    "    # decide on index of codeword\n",
    "    def decoder_H0(input):\n",
    "        if (input[1] > 0 and input[2] > 0):\n",
    "            return 0\n",
    "        elif (input[1] > 0 and input[2] < 0):\n",
    "            return 2\n",
    "        elif (input[1] < 0 and input[2] < 0):\n",
    "            return 1\n",
    "        elif (input[1] < 0 and input[2] > 0):\n",
    "            return 3\n",
    "\n",
    "    def decoder_H1(input):\n",
    "        if (input[0] > 0 and input[2] > 0):\n",
    "            return 0\n",
    "        elif (input[0] > 0 and input[2] < 0):\n",
    "            return 1\n",
    "        elif (input[0] < 0 and input[2] < 0):\n",
    "            return 2\n",
    "        elif (input[0] < 0 and input[2] > 0):\n",
    "            return 3\n",
    "\n",
    "    def decoder_H2(input):\n",
    "        if (input[0] > 0 and input[1] > 0):\n",
    "            return 0\n",
    "        elif (input[0] > 0 and input[1] < 0):\n",
    "            return 1\n",
    "        elif (input[0] < 0 and input[1] < 0):\n",
    "            return 3\n",
    "        elif (input[0] < 0 and input[1] > 0):\n",
    "            return 2\n",
    "\n",
    "    res = np.array([])\n",
    "    if (erasedIndex == 0):\n",
    "        res = np.array([decoder_H0(y) for y in chan_output])\n",
    "    elif (erasedIndex == 1):\n",
    "        res = np.array([decoder_H1(y) for y in chan_output])\n",
    "    elif (erasedIndex == 2):\n",
    "        res = np.array([decoder_H2(y) for y in chan_output])\n",
    "\n",
    "    # reconstitute channel input\n",
    "    def retrieveInput(index):\n",
    "        return signal_set[index][:2]\n",
    "\n",
    "    res = np.array([retrieveInput(i) for i in res])\n",
    "    \n",
    "    res = res.flatten()\n",
    "\n",
    "    return channelOutputToString(res)"
   ]
  },
  {
   "cell_type": "code",
   "execution_count": 184,
   "metadata": {},
   "outputs": [
    {
     "output_type": "stream",
     "name": "stdout",
     "text": [
      "input:\tf+BiqjU2qYfeU-qylT#H2'>C*L$Vh6sKm'mt%GekyHNK^?S<-+WG0tBP[kYB4ev]IF#xB8Gs~,;X4zk]\noutput:\t~#ôI)ì-\u0005òä¹Ký\u0018zµ\f/eÇ\u00127þlâk)\u00140Êµ¤Òhwâ)èd\u0019÷þx´uVú1\u0006LE\u001e]ËÊEwÊYçâ_mú6;»\ndiff:\t79\n"
     ]
    }
   ],
   "source": [
    "text_in = generateTestFile(characters=80)\n",
    "print(\"input:\\t\" + text_in)\n",
    "chan_input = encodeChannelInput(readTestFile())\n",
    "chan_output = channel(chan_input)\n",
    "text_out = decodeChannelOutputWoNoise(chan_output)\n",
    "print(\"output:\\t\" + text_out)\n",
    "diff = sum(text_in[i] != text_out[i] for i in range(len(text_out)))\n",
    "print(\"diff:\\t\" + str(diff))"
   ]
  },
  {
   "cell_type": "code",
   "execution_count": null,
   "metadata": {},
   "outputs": [],
   "source": []
  }
 ]
}